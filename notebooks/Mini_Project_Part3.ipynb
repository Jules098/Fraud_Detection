{
 "cells": [
  {
   "cell_type": "markdown",
   "id": "0601c337-7a83-4e95-a8c9-152db777f761",
   "metadata": {},
   "source": [
    "# Loan predictions\n",
    "## Problem Statement\n",
    "##### We want to automate the loan eligibility process based on customer details that are provided as online application forms are being filled. You can find the dataset here. These details concern the customer's Gender, Marital Status, Education, Number of Dependents, Income, Loan Amount, Credit History and other things as well.\n",
    "\n",
    "|Variable| Description|\n",
    "|--- |---|\n",
    "|Loan_ID| Unique Loan ID|\n",
    "|Gender| Male/ Female|\\n\",\n",
    "|Married| Applicant married (Y/N)|\\n\",\n",
    "|Dependents| Number of dependents|\\n\",\n",
    "|Education| Applicant Education (Graduate/ Under Graduate)|\\n\",\n",
    "|Self_Employed| Self employed (Y/N)|\\n\",\n",
    "|ApplicantIncome| Applicant income|\\n\",\n",
    "|CoapplicantIncome| Coapplicant income|\\n\",\n",
    "|LoanAmount| Loan amount in thousands|\\n\",\n",
    "|Loan_Amount_Term| Term of loan in months|\\n\",\n",
    "|Credit_History| credit history meets guidelines|\\n\",\n",
    "|Property_Area| Urban/ Semi Urban/ Rural|\\n\",\n",
    "|Loan_Status| Loan approved (Y/N)\\n\","
   ]
  },
  {
   "cell_type": "markdown",
   "id": "e25109eb-e313-4d30-87d9-aa5215d9470d",
   "metadata": {},
   "source": [
    "# Part 3"
   ]
  },
  {
   "cell_type": "code",
   "execution_count": 4,
   "id": "1c3bb572-f864-4c65-a003-3b7c2b03a58f",
   "metadata": {},
   "outputs": [],
   "source": [
    "from sklearn.compose import ColumnTransformer\n",
    "from sklearn.preprocessing import OneHotEncoder\n",
    "from sklearn.impute import SimpleImputer\n",
    "from sklearn.linear_model import LinearRegression\n",
    "from sklearn.compose import make_column_transformer\n",
    "from sklearn.decomposition import PCA\n",
    "from sklearn.feature_selection import SelectKBest\n",
    "from sklearn.preprocessing import StandardScaler\n",
    "from sklearn.pipeline import Pipeline, FeatureUnion\n",
    "from sklearn.model_selection import train_test_split"
   ]
  },
  {
   "cell_type": "markdown",
   "id": "c70a0402-9f67-48d2-8284-d719f7b92e6f",
   "metadata": {},
   "source": [
    "### Separate target variable and split train test data"
   ]
  },
  {
   "cell_type": "code",
   "execution_count": 22,
   "id": "a022b7f5-d985-4e94-8c9c-b9cbc5fe06af",
   "metadata": {},
   "outputs": [],
   "source": [
    "%store -r cleaned_df\n",
    "%store -r df\n",
    "%store -r df_cat\n",
    "%store -r df_num"
   ]
  },
  {
   "cell_type": "code",
   "execution_count": 23,
   "id": "00a7b094-cce0-4654-b5d6-5dddba1ef212",
   "metadata": {},
   "outputs": [],
   "source": [
    "# Separate the target variable\n",
    "y_df = cleaned_df['Loan_Status']\n",
    "\n",
    "cleaned_df = cleaned_df.drop(['Loan_Status'], axis=1)"
   ]
  },
  {
   "cell_type": "code",
   "execution_count": 24,
   "id": "27e28ff6-fb66-4609-9ffd-9c203f2ac506",
   "metadata": {},
   "outputs": [],
   "source": [
    "# Split the training and testing data from the cleaned dataframe\n",
    "\n",
    "X_train, X_test, y_train, y_test = train_test_split(cleaned_df, y_df, test_size = 0.3, random_state = 42)"
   ]
  },
  {
   "cell_type": "code",
   "execution_count": 25,
   "id": "66c421b6-459c-470b-bdcc-876e4a39e221",
   "metadata": {},
   "outputs": [
    {
     "name": "stdout",
     "output_type": "stream",
     "text": [
      "(410, 12)\n",
      "(410,)\n"
     ]
    }
   ],
   "source": [
    "print(X_train.shape)\n",
    "print(y_train.shape)"
   ]
  },
  {
   "cell_type": "code",
   "execution_count": 26,
   "id": "88ab2214-7933-40c0-b86e-dcf687deac06",
   "metadata": {},
   "outputs": [
    {
     "name": "stdout",
     "output_type": "stream",
     "text": [
      "(176, 12)\n",
      "(176,)\n"
     ]
    }
   ],
   "source": [
    "print(X_test.shape)\n",
    "print(y_test.shape)"
   ]
  },
  {
   "cell_type": "markdown",
   "id": "ebacee42-6a50-4890-8bb3-702364e43d06",
   "metadata": {},
   "source": [
    "## 4. Building a Predictive Model"
   ]
  },
  {
   "cell_type": "markdown",
   "id": "6fe26227-3c9f-45a6-9762-693af8d66e18",
   "metadata": {},
   "source": [
    "### One hot encode the categorical variables"
   ]
  },
  {
   "cell_type": "code",
   "execution_count": 27,
   "id": "9bb8022e-a015-46e3-bec1-99db99680ea6",
   "metadata": {},
   "outputs": [],
   "source": [
    "ohe = OneHotEncoder(sparse=False)"
   ]
  },
  {
   "cell_type": "code",
   "execution_count": 28,
   "id": "904d3d89-33d6-4ac5-b18d-769e6e13cb8d",
   "metadata": {},
   "outputs": [],
   "source": [
    "cat = make_column_transformer(\n",
    "    (ohe, ['Gender', 'Married',\n",
    "           'Dependents', 'Education',\n",
    "           'Self_Employed', 'Loan_Amount_Term',\n",
    "           'Credit_History', 'Property_Area']),\n",
    "    remainder='passthrough'\n",
    ")"
   ]
  },
  {
   "cell_type": "code",
   "execution_count": 29,
   "id": "b04b619b-0b96-41ba-aa4a-2a086a3b6579",
   "metadata": {},
   "outputs": [],
   "source": [
    "cat_ = cat.fit_transform(cleaned_df)"
   ]
  },
  {
   "cell_type": "markdown",
   "id": "467c780d-fc52-4462-94f9-85ed731096bc",
   "metadata": {},
   "source": [
    "### Run PCA on Categorical one hot encoded variables"
   ]
  },
  {
   "cell_type": "code",
   "execution_count": 30,
   "id": "85ecef92-1cb7-407a-983a-7e4e829a51ad",
   "metadata": {},
   "outputs": [
    {
     "data": {
      "text/html": [
       "<style>#sk-container-id-2 {color: black;background-color: white;}#sk-container-id-2 pre{padding: 0;}#sk-container-id-2 div.sk-toggleable {background-color: white;}#sk-container-id-2 label.sk-toggleable__label {cursor: pointer;display: block;width: 100%;margin-bottom: 0;padding: 0.3em;box-sizing: border-box;text-align: center;}#sk-container-id-2 label.sk-toggleable__label-arrow:before {content: \"▸\";float: left;margin-right: 0.25em;color: #696969;}#sk-container-id-2 label.sk-toggleable__label-arrow:hover:before {color: black;}#sk-container-id-2 div.sk-estimator:hover label.sk-toggleable__label-arrow:before {color: black;}#sk-container-id-2 div.sk-toggleable__content {max-height: 0;max-width: 0;overflow: hidden;text-align: left;background-color: #f0f8ff;}#sk-container-id-2 div.sk-toggleable__content pre {margin: 0.2em;color: black;border-radius: 0.25em;background-color: #f0f8ff;}#sk-container-id-2 input.sk-toggleable__control:checked~div.sk-toggleable__content {max-height: 200px;max-width: 100%;overflow: auto;}#sk-container-id-2 input.sk-toggleable__control:checked~label.sk-toggleable__label-arrow:before {content: \"▾\";}#sk-container-id-2 div.sk-estimator input.sk-toggleable__control:checked~label.sk-toggleable__label {background-color: #d4ebff;}#sk-container-id-2 div.sk-label input.sk-toggleable__control:checked~label.sk-toggleable__label {background-color: #d4ebff;}#sk-container-id-2 input.sk-hidden--visually {border: 0;clip: rect(1px 1px 1px 1px);clip: rect(1px, 1px, 1px, 1px);height: 1px;margin: -1px;overflow: hidden;padding: 0;position: absolute;width: 1px;}#sk-container-id-2 div.sk-estimator {font-family: monospace;background-color: #f0f8ff;border: 1px dotted black;border-radius: 0.25em;box-sizing: border-box;margin-bottom: 0.5em;}#sk-container-id-2 div.sk-estimator:hover {background-color: #d4ebff;}#sk-container-id-2 div.sk-parallel-item::after {content: \"\";width: 100%;border-bottom: 1px solid gray;flex-grow: 1;}#sk-container-id-2 div.sk-label:hover label.sk-toggleable__label {background-color: #d4ebff;}#sk-container-id-2 div.sk-serial::before {content: \"\";position: absolute;border-left: 1px solid gray;box-sizing: border-box;top: 0;bottom: 0;left: 50%;z-index: 0;}#sk-container-id-2 div.sk-serial {display: flex;flex-direction: column;align-items: center;background-color: white;padding-right: 0.2em;padding-left: 0.2em;position: relative;}#sk-container-id-2 div.sk-item {position: relative;z-index: 1;}#sk-container-id-2 div.sk-parallel {display: flex;align-items: stretch;justify-content: center;background-color: white;position: relative;}#sk-container-id-2 div.sk-item::before, #sk-container-id-2 div.sk-parallel-item::before {content: \"\";position: absolute;border-left: 1px solid gray;box-sizing: border-box;top: 0;bottom: 0;left: 50%;z-index: -1;}#sk-container-id-2 div.sk-parallel-item {display: flex;flex-direction: column;z-index: 1;position: relative;background-color: white;}#sk-container-id-2 div.sk-parallel-item:first-child::after {align-self: flex-end;width: 50%;}#sk-container-id-2 div.sk-parallel-item:last-child::after {align-self: flex-start;width: 50%;}#sk-container-id-2 div.sk-parallel-item:only-child::after {width: 0;}#sk-container-id-2 div.sk-dashed-wrapped {border: 1px dashed gray;margin: 0 0.4em 0.5em 0.4em;box-sizing: border-box;padding-bottom: 0.4em;background-color: white;}#sk-container-id-2 div.sk-label label {font-family: monospace;font-weight: bold;display: inline-block;line-height: 1.2em;}#sk-container-id-2 div.sk-label-container {text-align: center;}#sk-container-id-2 div.sk-container {/* jupyter's `normalize.less` sets `[hidden] { display: none; }` but bootstrap.min.css set `[hidden] { display: none !important; }` so we also need the `!important` here to be able to override the default hidden behavior on the sphinx rendered scikit-learn.org. See: https://github.com/scikit-learn/scikit-learn/issues/21755 */display: inline-block !important;position: relative;}#sk-container-id-2 div.sk-text-repr-fallback {display: none;}</style><div id=\"sk-container-id-2\" class=\"sk-top-container\"><div class=\"sk-text-repr-fallback\"><pre>PCA(n_components=3)</pre><b>In a Jupyter environment, please rerun this cell to show the HTML representation or trust the notebook. <br />On GitHub, the HTML representation is unable to render, please try loading this page with nbviewer.org.</b></div><div class=\"sk-container\" hidden><div class=\"sk-item\"><div class=\"sk-estimator sk-toggleable\"><input class=\"sk-toggleable__control sk-hidden--visually\" id=\"sk-estimator-id-2\" type=\"checkbox\" checked><label for=\"sk-estimator-id-2\" class=\"sk-toggleable__label sk-toggleable__label-arrow\">PCA</label><div class=\"sk-toggleable__content\"><pre>PCA(n_components=3)</pre></div></div></div></div></div>"
      ],
      "text/plain": [
       "PCA(n_components=3)"
      ]
     },
     "execution_count": 30,
     "metadata": {},
     "output_type": "execute_result"
    }
   ],
   "source": [
    "# Select number of principle components\n",
    "pca = PCA(n_components=3)\n",
    "\n",
    "# Fit the data\n",
    "pca.fit(cat_)"
   ]
  },
  {
   "cell_type": "markdown",
   "id": "778e7c14-ead0-42c3-94db-0bda0bedd58a",
   "metadata": {},
   "source": [
    "### Use selectKBest on numeric variables"
   ]
  },
  {
   "cell_type": "code",
   "execution_count": 31,
   "id": "6e621694-518e-4038-8e88-5ec9f5a3f7b6",
   "metadata": {},
   "outputs": [],
   "source": [
    "# Instantiate SelectKBest Variable\n",
    "selection = SelectKBest(k=3)"
   ]
  },
  {
   "cell_type": "markdown",
   "id": "c98b9dd1-7698-4828-909c-64823dff61a2",
   "metadata": {},
   "source": [
    "### Instantiate Standard Scaler"
   ]
  },
  {
   "cell_type": "code",
   "execution_count": 38,
   "id": "2f4a25c7-b289-4cf4-b005-af04afbfcfa9",
   "metadata": {},
   "outputs": [],
   "source": [
    "scaler=StandardScaler()"
   ]
  },
  {
   "cell_type": "markdown",
   "id": "1efb8600-fc03-4779-a565-fcce47228a00",
   "metadata": {},
   "source": [
    "### Get the Classifiers"
   ]
  },
  {
   "cell_type": "code",
   "execution_count": 39,
   "id": "d55b5cf0-0f48-43a4-a5e2-49120194fb57",
   "metadata": {},
   "outputs": [],
   "source": [
    "from sklearn.ensemble import GradientBoostingClassifier\n",
    "\n",
    "Gb_clf = GradientBoostingClassifier()"
   ]
  },
  {
   "cell_type": "code",
   "execution_count": 40,
   "id": "85382329-3508-4281-b466-8a76e5927e12",
   "metadata": {},
   "outputs": [],
   "source": [
    "# define individual transformers in a pipeline\n",
    "\n",
    "categorical_preprocessing = Pipeline([('imputation', SimpleImputer(strategy='most_frequent')),\n",
    "                                      ('ohe', OneHotEncoder(sparse=False)),\n",
    "                                     ('PCA', pca)])\n",
    "\n",
    "numerical_preprocessing = Pipeline([('imputation', SimpleImputer(strategy='mean')),\n",
    "                                    ('scale', StandardScaler()),\n",
    "                                   ('selectK_best', selection)])"
   ]
  },
  {
   "cell_type": "code",
   "execution_count": 41,
   "id": "56071874-6834-4800-b3af-b19118a84010",
   "metadata": {},
   "outputs": [
    {
     "data": {
      "text/html": [
       "<style>#sk-container-id-3 {color: black;background-color: white;}#sk-container-id-3 pre{padding: 0;}#sk-container-id-3 div.sk-toggleable {background-color: white;}#sk-container-id-3 label.sk-toggleable__label {cursor: pointer;display: block;width: 100%;margin-bottom: 0;padding: 0.3em;box-sizing: border-box;text-align: center;}#sk-container-id-3 label.sk-toggleable__label-arrow:before {content: \"▸\";float: left;margin-right: 0.25em;color: #696969;}#sk-container-id-3 label.sk-toggleable__label-arrow:hover:before {color: black;}#sk-container-id-3 div.sk-estimator:hover label.sk-toggleable__label-arrow:before {color: black;}#sk-container-id-3 div.sk-toggleable__content {max-height: 0;max-width: 0;overflow: hidden;text-align: left;background-color: #f0f8ff;}#sk-container-id-3 div.sk-toggleable__content pre {margin: 0.2em;color: black;border-radius: 0.25em;background-color: #f0f8ff;}#sk-container-id-3 input.sk-toggleable__control:checked~div.sk-toggleable__content {max-height: 200px;max-width: 100%;overflow: auto;}#sk-container-id-3 input.sk-toggleable__control:checked~label.sk-toggleable__label-arrow:before {content: \"▾\";}#sk-container-id-3 div.sk-estimator input.sk-toggleable__control:checked~label.sk-toggleable__label {background-color: #d4ebff;}#sk-container-id-3 div.sk-label input.sk-toggleable__control:checked~label.sk-toggleable__label {background-color: #d4ebff;}#sk-container-id-3 input.sk-hidden--visually {border: 0;clip: rect(1px 1px 1px 1px);clip: rect(1px, 1px, 1px, 1px);height: 1px;margin: -1px;overflow: hidden;padding: 0;position: absolute;width: 1px;}#sk-container-id-3 div.sk-estimator {font-family: monospace;background-color: #f0f8ff;border: 1px dotted black;border-radius: 0.25em;box-sizing: border-box;margin-bottom: 0.5em;}#sk-container-id-3 div.sk-estimator:hover {background-color: #d4ebff;}#sk-container-id-3 div.sk-parallel-item::after {content: \"\";width: 100%;border-bottom: 1px solid gray;flex-grow: 1;}#sk-container-id-3 div.sk-label:hover label.sk-toggleable__label {background-color: #d4ebff;}#sk-container-id-3 div.sk-serial::before {content: \"\";position: absolute;border-left: 1px solid gray;box-sizing: border-box;top: 0;bottom: 0;left: 50%;z-index: 0;}#sk-container-id-3 div.sk-serial {display: flex;flex-direction: column;align-items: center;background-color: white;padding-right: 0.2em;padding-left: 0.2em;position: relative;}#sk-container-id-3 div.sk-item {position: relative;z-index: 1;}#sk-container-id-3 div.sk-parallel {display: flex;align-items: stretch;justify-content: center;background-color: white;position: relative;}#sk-container-id-3 div.sk-item::before, #sk-container-id-3 div.sk-parallel-item::before {content: \"\";position: absolute;border-left: 1px solid gray;box-sizing: border-box;top: 0;bottom: 0;left: 50%;z-index: -1;}#sk-container-id-3 div.sk-parallel-item {display: flex;flex-direction: column;z-index: 1;position: relative;background-color: white;}#sk-container-id-3 div.sk-parallel-item:first-child::after {align-self: flex-end;width: 50%;}#sk-container-id-3 div.sk-parallel-item:last-child::after {align-self: flex-start;width: 50%;}#sk-container-id-3 div.sk-parallel-item:only-child::after {width: 0;}#sk-container-id-3 div.sk-dashed-wrapped {border: 1px dashed gray;margin: 0 0.4em 0.5em 0.4em;box-sizing: border-box;padding-bottom: 0.4em;background-color: white;}#sk-container-id-3 div.sk-label label {font-family: monospace;font-weight: bold;display: inline-block;line-height: 1.2em;}#sk-container-id-3 div.sk-label-container {text-align: center;}#sk-container-id-3 div.sk-container {/* jupyter's `normalize.less` sets `[hidden] { display: none; }` but bootstrap.min.css set `[hidden] { display: none !important; }` so we also need the `!important` here to be able to override the default hidden behavior on the sphinx rendered scikit-learn.org. See: https://github.com/scikit-learn/scikit-learn/issues/21755 */display: inline-block !important;position: relative;}#sk-container-id-3 div.sk-text-repr-fallback {display: none;}</style><div id=\"sk-container-id-3\" class=\"sk-top-container\"><div class=\"sk-text-repr-fallback\"><pre>ColumnTransformer(remainder=&#x27;passthrough&#x27;,\n",
       "                  transformers=[(&#x27;categorical_preprocessing&#x27;,\n",
       "                                 Pipeline(steps=[(&#x27;imputation&#x27;,\n",
       "                                                  SimpleImputer(strategy=&#x27;most_frequent&#x27;)),\n",
       "                                                 (&#x27;ohe&#x27;,\n",
       "                                                  OneHotEncoder(sparse=False)),\n",
       "                                                 (&#x27;PCA&#x27;, PCA(n_components=3))]),\n",
       "                                 [&#x27;Gender&#x27;, &#x27;Married&#x27;, &#x27;Dependents&#x27;,\n",
       "                                  &#x27;Education&#x27;, &#x27;Self_Employed&#x27;,\n",
       "                                  &#x27;Loan_Amount_Term&#x27;, &#x27;Credit_History&#x27;,\n",
       "                                  &#x27;Property_Area&#x27;]),\n",
       "                                (&#x27;numerical_preprocessing&#x27;,\n",
       "                                 Pipeline(steps=[(&#x27;imputation&#x27;,\n",
       "                                                  SimpleImputer()),\n",
       "                                                 (&#x27;scale&#x27;, StandardScaler()),\n",
       "                                                 (&#x27;selectK_best&#x27;,\n",
       "                                                  SelectKBest(k=3))]),\n",
       "                                 [&#x27;ApplicantIncome&#x27;, &#x27;CoapplicantIncome&#x27;,\n",
       "                                  &#x27;LoanAmount&#x27;])])</pre><b>In a Jupyter environment, please rerun this cell to show the HTML representation or trust the notebook. <br />On GitHub, the HTML representation is unable to render, please try loading this page with nbviewer.org.</b></div><div class=\"sk-container\" hidden><div class=\"sk-item sk-dashed-wrapped\"><div class=\"sk-label-container\"><div class=\"sk-label sk-toggleable\"><input class=\"sk-toggleable__control sk-hidden--visually\" id=\"sk-estimator-id-3\" type=\"checkbox\" ><label for=\"sk-estimator-id-3\" class=\"sk-toggleable__label sk-toggleable__label-arrow\">ColumnTransformer</label><div class=\"sk-toggleable__content\"><pre>ColumnTransformer(remainder=&#x27;passthrough&#x27;,\n",
       "                  transformers=[(&#x27;categorical_preprocessing&#x27;,\n",
       "                                 Pipeline(steps=[(&#x27;imputation&#x27;,\n",
       "                                                  SimpleImputer(strategy=&#x27;most_frequent&#x27;)),\n",
       "                                                 (&#x27;ohe&#x27;,\n",
       "                                                  OneHotEncoder(sparse=False)),\n",
       "                                                 (&#x27;PCA&#x27;, PCA(n_components=3))]),\n",
       "                                 [&#x27;Gender&#x27;, &#x27;Married&#x27;, &#x27;Dependents&#x27;,\n",
       "                                  &#x27;Education&#x27;, &#x27;Self_Employed&#x27;,\n",
       "                                  &#x27;Loan_Amount_Term&#x27;, &#x27;Credit_History&#x27;,\n",
       "                                  &#x27;Property_Area&#x27;]),\n",
       "                                (&#x27;numerical_preprocessing&#x27;,\n",
       "                                 Pipeline(steps=[(&#x27;imputation&#x27;,\n",
       "                                                  SimpleImputer()),\n",
       "                                                 (&#x27;scale&#x27;, StandardScaler()),\n",
       "                                                 (&#x27;selectK_best&#x27;,\n",
       "                                                  SelectKBest(k=3))]),\n",
       "                                 [&#x27;ApplicantIncome&#x27;, &#x27;CoapplicantIncome&#x27;,\n",
       "                                  &#x27;LoanAmount&#x27;])])</pre></div></div></div><div class=\"sk-parallel\"><div class=\"sk-parallel-item\"><div class=\"sk-item\"><div class=\"sk-label-container\"><div class=\"sk-label sk-toggleable\"><input class=\"sk-toggleable__control sk-hidden--visually\" id=\"sk-estimator-id-4\" type=\"checkbox\" ><label for=\"sk-estimator-id-4\" class=\"sk-toggleable__label sk-toggleable__label-arrow\">categorical_preprocessing</label><div class=\"sk-toggleable__content\"><pre>[&#x27;Gender&#x27;, &#x27;Married&#x27;, &#x27;Dependents&#x27;, &#x27;Education&#x27;, &#x27;Self_Employed&#x27;, &#x27;Loan_Amount_Term&#x27;, &#x27;Credit_History&#x27;, &#x27;Property_Area&#x27;]</pre></div></div></div><div class=\"sk-serial\"><div class=\"sk-item\"><div class=\"sk-serial\"><div class=\"sk-item\"><div class=\"sk-estimator sk-toggleable\"><input class=\"sk-toggleable__control sk-hidden--visually\" id=\"sk-estimator-id-5\" type=\"checkbox\" ><label for=\"sk-estimator-id-5\" class=\"sk-toggleable__label sk-toggleable__label-arrow\">SimpleImputer</label><div class=\"sk-toggleable__content\"><pre>SimpleImputer(strategy=&#x27;most_frequent&#x27;)</pre></div></div></div><div class=\"sk-item\"><div class=\"sk-estimator sk-toggleable\"><input class=\"sk-toggleable__control sk-hidden--visually\" id=\"sk-estimator-id-6\" type=\"checkbox\" ><label for=\"sk-estimator-id-6\" class=\"sk-toggleable__label sk-toggleable__label-arrow\">OneHotEncoder</label><div class=\"sk-toggleable__content\"><pre>OneHotEncoder(sparse=False)</pre></div></div></div><div class=\"sk-item\"><div class=\"sk-estimator sk-toggleable\"><input class=\"sk-toggleable__control sk-hidden--visually\" id=\"sk-estimator-id-7\" type=\"checkbox\" ><label for=\"sk-estimator-id-7\" class=\"sk-toggleable__label sk-toggleable__label-arrow\">PCA</label><div class=\"sk-toggleable__content\"><pre>PCA(n_components=3)</pre></div></div></div></div></div></div></div></div><div class=\"sk-parallel-item\"><div class=\"sk-item\"><div class=\"sk-label-container\"><div class=\"sk-label sk-toggleable\"><input class=\"sk-toggleable__control sk-hidden--visually\" id=\"sk-estimator-id-8\" type=\"checkbox\" ><label for=\"sk-estimator-id-8\" class=\"sk-toggleable__label sk-toggleable__label-arrow\">numerical_preprocessing</label><div class=\"sk-toggleable__content\"><pre>[&#x27;ApplicantIncome&#x27;, &#x27;CoapplicantIncome&#x27;, &#x27;LoanAmount&#x27;]</pre></div></div></div><div class=\"sk-serial\"><div class=\"sk-item\"><div class=\"sk-serial\"><div class=\"sk-item\"><div class=\"sk-estimator sk-toggleable\"><input class=\"sk-toggleable__control sk-hidden--visually\" id=\"sk-estimator-id-9\" type=\"checkbox\" ><label for=\"sk-estimator-id-9\" class=\"sk-toggleable__label sk-toggleable__label-arrow\">SimpleImputer</label><div class=\"sk-toggleable__content\"><pre>SimpleImputer()</pre></div></div></div><div class=\"sk-item\"><div class=\"sk-estimator sk-toggleable\"><input class=\"sk-toggleable__control sk-hidden--visually\" id=\"sk-estimator-id-10\" type=\"checkbox\" ><label for=\"sk-estimator-id-10\" class=\"sk-toggleable__label sk-toggleable__label-arrow\">StandardScaler</label><div class=\"sk-toggleable__content\"><pre>StandardScaler()</pre></div></div></div><div class=\"sk-item\"><div class=\"sk-estimator sk-toggleable\"><input class=\"sk-toggleable__control sk-hidden--visually\" id=\"sk-estimator-id-11\" type=\"checkbox\" ><label for=\"sk-estimator-id-11\" class=\"sk-toggleable__label sk-toggleable__label-arrow\">SelectKBest</label><div class=\"sk-toggleable__content\"><pre>SelectKBest(k=3)</pre></div></div></div></div></div></div></div></div><div class=\"sk-parallel-item\"><div class=\"sk-item\"><div class=\"sk-label-container\"><div class=\"sk-label sk-toggleable\"><input class=\"sk-toggleable__control sk-hidden--visually\" id=\"sk-estimator-id-12\" type=\"checkbox\" ><label for=\"sk-estimator-id-12\" class=\"sk-toggleable__label sk-toggleable__label-arrow\">remainder</label><div class=\"sk-toggleable__content\"><pre></pre></div></div></div><div class=\"sk-serial\"><div class=\"sk-item\"><div class=\"sk-estimator sk-toggleable\"><input class=\"sk-toggleable__control sk-hidden--visually\" id=\"sk-estimator-id-13\" type=\"checkbox\" ><label for=\"sk-estimator-id-13\" class=\"sk-toggleable__label sk-toggleable__label-arrow\">passthrough</label><div class=\"sk-toggleable__content\"><pre>passthrough</pre></div></div></div></div></div></div></div></div></div></div>"
      ],
      "text/plain": [
       "ColumnTransformer(remainder='passthrough',\n",
       "                  transformers=[('categorical_preprocessing',\n",
       "                                 Pipeline(steps=[('imputation',\n",
       "                                                  SimpleImputer(strategy='most_frequent')),\n",
       "                                                 ('ohe',\n",
       "                                                  OneHotEncoder(sparse=False)),\n",
       "                                                 ('PCA', PCA(n_components=3))]),\n",
       "                                 ['Gender', 'Married', 'Dependents',\n",
       "                                  'Education', 'Self_Employed',\n",
       "                                  'Loan_Amount_Term', 'Credit_History',\n",
       "                                  'Property_Area']),\n",
       "                                ('numerical_preprocessing',\n",
       "                                 Pipeline(steps=[('imputation',\n",
       "                                                  SimpleImputer()),\n",
       "                                                 ('scale', StandardScaler()),\n",
       "                                                 ('selectK_best',\n",
       "                                                  SelectKBest(k=3))]),\n",
       "                                 ['ApplicantIncome', 'CoapplicantIncome',\n",
       "                                  'LoanAmount'])])"
      ]
     },
     "execution_count": 41,
     "metadata": {},
     "output_type": "execute_result"
    }
   ],
   "source": [
    "# define which transformer applies to which columns\n",
    "preprocess = ColumnTransformer([\n",
    "    ('categorical_preprocessing', categorical_preprocessing, ['Gender', 'Married',\n",
    "                                                              'Dependents', 'Education',\n",
    "                                                              'Self_Employed', 'Loan_Amount_Term',\n",
    "                                                              'Credit_History', 'Property_Area']),\n",
    "    ('numerical_preprocessing', numerical_preprocessing, ['ApplicantIncome', 'CoapplicantIncome',\n",
    "                                                          'LoanAmount'])\n",
    "],remainder=\"passthrough\")\n",
    "\n",
    "preprocess"
   ]
  },
  {
   "cell_type": "code",
   "execution_count": 42,
   "id": "f7ea7991-645d-4c99-83d9-ea8880f9831c",
   "metadata": {},
   "outputs": [
    {
     "data": {
      "text/html": [
       "<style>#sk-container-id-4 {color: black;background-color: white;}#sk-container-id-4 pre{padding: 0;}#sk-container-id-4 div.sk-toggleable {background-color: white;}#sk-container-id-4 label.sk-toggleable__label {cursor: pointer;display: block;width: 100%;margin-bottom: 0;padding: 0.3em;box-sizing: border-box;text-align: center;}#sk-container-id-4 label.sk-toggleable__label-arrow:before {content: \"▸\";float: left;margin-right: 0.25em;color: #696969;}#sk-container-id-4 label.sk-toggleable__label-arrow:hover:before {color: black;}#sk-container-id-4 div.sk-estimator:hover label.sk-toggleable__label-arrow:before {color: black;}#sk-container-id-4 div.sk-toggleable__content {max-height: 0;max-width: 0;overflow: hidden;text-align: left;background-color: #f0f8ff;}#sk-container-id-4 div.sk-toggleable__content pre {margin: 0.2em;color: black;border-radius: 0.25em;background-color: #f0f8ff;}#sk-container-id-4 input.sk-toggleable__control:checked~div.sk-toggleable__content {max-height: 200px;max-width: 100%;overflow: auto;}#sk-container-id-4 input.sk-toggleable__control:checked~label.sk-toggleable__label-arrow:before {content: \"▾\";}#sk-container-id-4 div.sk-estimator input.sk-toggleable__control:checked~label.sk-toggleable__label {background-color: #d4ebff;}#sk-container-id-4 div.sk-label input.sk-toggleable__control:checked~label.sk-toggleable__label {background-color: #d4ebff;}#sk-container-id-4 input.sk-hidden--visually {border: 0;clip: rect(1px 1px 1px 1px);clip: rect(1px, 1px, 1px, 1px);height: 1px;margin: -1px;overflow: hidden;padding: 0;position: absolute;width: 1px;}#sk-container-id-4 div.sk-estimator {font-family: monospace;background-color: #f0f8ff;border: 1px dotted black;border-radius: 0.25em;box-sizing: border-box;margin-bottom: 0.5em;}#sk-container-id-4 div.sk-estimator:hover {background-color: #d4ebff;}#sk-container-id-4 div.sk-parallel-item::after {content: \"\";width: 100%;border-bottom: 1px solid gray;flex-grow: 1;}#sk-container-id-4 div.sk-label:hover label.sk-toggleable__label {background-color: #d4ebff;}#sk-container-id-4 div.sk-serial::before {content: \"\";position: absolute;border-left: 1px solid gray;box-sizing: border-box;top: 0;bottom: 0;left: 50%;z-index: 0;}#sk-container-id-4 div.sk-serial {display: flex;flex-direction: column;align-items: center;background-color: white;padding-right: 0.2em;padding-left: 0.2em;position: relative;}#sk-container-id-4 div.sk-item {position: relative;z-index: 1;}#sk-container-id-4 div.sk-parallel {display: flex;align-items: stretch;justify-content: center;background-color: white;position: relative;}#sk-container-id-4 div.sk-item::before, #sk-container-id-4 div.sk-parallel-item::before {content: \"\";position: absolute;border-left: 1px solid gray;box-sizing: border-box;top: 0;bottom: 0;left: 50%;z-index: -1;}#sk-container-id-4 div.sk-parallel-item {display: flex;flex-direction: column;z-index: 1;position: relative;background-color: white;}#sk-container-id-4 div.sk-parallel-item:first-child::after {align-self: flex-end;width: 50%;}#sk-container-id-4 div.sk-parallel-item:last-child::after {align-self: flex-start;width: 50%;}#sk-container-id-4 div.sk-parallel-item:only-child::after {width: 0;}#sk-container-id-4 div.sk-dashed-wrapped {border: 1px dashed gray;margin: 0 0.4em 0.5em 0.4em;box-sizing: border-box;padding-bottom: 0.4em;background-color: white;}#sk-container-id-4 div.sk-label label {font-family: monospace;font-weight: bold;display: inline-block;line-height: 1.2em;}#sk-container-id-4 div.sk-label-container {text-align: center;}#sk-container-id-4 div.sk-container {/* jupyter's `normalize.less` sets `[hidden] { display: none; }` but bootstrap.min.css set `[hidden] { display: none !important; }` so we also need the `!important` here to be able to override the default hidden behavior on the sphinx rendered scikit-learn.org. See: https://github.com/scikit-learn/scikit-learn/issues/21755 */display: inline-block !important;position: relative;}#sk-container-id-4 div.sk-text-repr-fallback {display: none;}</style><div id=\"sk-container-id-4\" class=\"sk-top-container\"><div class=\"sk-text-repr-fallback\"><pre>Pipeline(steps=[(&#x27;preprocess&#x27;,\n",
       "                 ColumnTransformer(remainder=&#x27;passthrough&#x27;,\n",
       "                                   transformers=[(&#x27;categorical_preprocessing&#x27;,\n",
       "                                                  Pipeline(steps=[(&#x27;imputation&#x27;,\n",
       "                                                                   SimpleImputer(strategy=&#x27;most_frequent&#x27;)),\n",
       "                                                                  (&#x27;ohe&#x27;,\n",
       "                                                                   OneHotEncoder(sparse=False)),\n",
       "                                                                  (&#x27;PCA&#x27;,\n",
       "                                                                   PCA(n_components=3))]),\n",
       "                                                  [&#x27;Gender&#x27;, &#x27;Married&#x27;,\n",
       "                                                   &#x27;Dependents&#x27;, &#x27;Education&#x27;,\n",
       "                                                   &#x27;Self_Employed&#x27;,\n",
       "                                                   &#x27;Loan_Amount_Term&#x27;,\n",
       "                                                   &#x27;Credit_History&#x27;,\n",
       "                                                   &#x27;Property_Area&#x27;]),\n",
       "                                                 (&#x27;numerical_preprocessing&#x27;,\n",
       "                                                  Pipeline(steps=[(&#x27;imputation&#x27;,\n",
       "                                                                   SimpleImputer()),\n",
       "                                                                  (&#x27;scale&#x27;,\n",
       "                                                                   StandardScaler()),\n",
       "                                                                  (&#x27;selectK_best&#x27;,\n",
       "                                                                   SelectKBest(k=3))]),\n",
       "                                                  [&#x27;ApplicantIncome&#x27;,\n",
       "                                                   &#x27;CoapplicantIncome&#x27;,\n",
       "                                                   &#x27;LoanAmount&#x27;])])),\n",
       "                (&#x27;best_model&#x27;, GradientBoostingClassifier())])</pre><b>In a Jupyter environment, please rerun this cell to show the HTML representation or trust the notebook. <br />On GitHub, the HTML representation is unable to render, please try loading this page with nbviewer.org.</b></div><div class=\"sk-container\" hidden><div class=\"sk-item sk-dashed-wrapped\"><div class=\"sk-label-container\"><div class=\"sk-label sk-toggleable\"><input class=\"sk-toggleable__control sk-hidden--visually\" id=\"sk-estimator-id-14\" type=\"checkbox\" ><label for=\"sk-estimator-id-14\" class=\"sk-toggleable__label sk-toggleable__label-arrow\">Pipeline</label><div class=\"sk-toggleable__content\"><pre>Pipeline(steps=[(&#x27;preprocess&#x27;,\n",
       "                 ColumnTransformer(remainder=&#x27;passthrough&#x27;,\n",
       "                                   transformers=[(&#x27;categorical_preprocessing&#x27;,\n",
       "                                                  Pipeline(steps=[(&#x27;imputation&#x27;,\n",
       "                                                                   SimpleImputer(strategy=&#x27;most_frequent&#x27;)),\n",
       "                                                                  (&#x27;ohe&#x27;,\n",
       "                                                                   OneHotEncoder(sparse=False)),\n",
       "                                                                  (&#x27;PCA&#x27;,\n",
       "                                                                   PCA(n_components=3))]),\n",
       "                                                  [&#x27;Gender&#x27;, &#x27;Married&#x27;,\n",
       "                                                   &#x27;Dependents&#x27;, &#x27;Education&#x27;,\n",
       "                                                   &#x27;Self_Employed&#x27;,\n",
       "                                                   &#x27;Loan_Amount_Term&#x27;,\n",
       "                                                   &#x27;Credit_History&#x27;,\n",
       "                                                   &#x27;Property_Area&#x27;]),\n",
       "                                                 (&#x27;numerical_preprocessing&#x27;,\n",
       "                                                  Pipeline(steps=[(&#x27;imputation&#x27;,\n",
       "                                                                   SimpleImputer()),\n",
       "                                                                  (&#x27;scale&#x27;,\n",
       "                                                                   StandardScaler()),\n",
       "                                                                  (&#x27;selectK_best&#x27;,\n",
       "                                                                   SelectKBest(k=3))]),\n",
       "                                                  [&#x27;ApplicantIncome&#x27;,\n",
       "                                                   &#x27;CoapplicantIncome&#x27;,\n",
       "                                                   &#x27;LoanAmount&#x27;])])),\n",
       "                (&#x27;best_model&#x27;, GradientBoostingClassifier())])</pre></div></div></div><div class=\"sk-serial\"><div class=\"sk-item sk-dashed-wrapped\"><div class=\"sk-label-container\"><div class=\"sk-label sk-toggleable\"><input class=\"sk-toggleable__control sk-hidden--visually\" id=\"sk-estimator-id-15\" type=\"checkbox\" ><label for=\"sk-estimator-id-15\" class=\"sk-toggleable__label sk-toggleable__label-arrow\">preprocess: ColumnTransformer</label><div class=\"sk-toggleable__content\"><pre>ColumnTransformer(remainder=&#x27;passthrough&#x27;,\n",
       "                  transformers=[(&#x27;categorical_preprocessing&#x27;,\n",
       "                                 Pipeline(steps=[(&#x27;imputation&#x27;,\n",
       "                                                  SimpleImputer(strategy=&#x27;most_frequent&#x27;)),\n",
       "                                                 (&#x27;ohe&#x27;,\n",
       "                                                  OneHotEncoder(sparse=False)),\n",
       "                                                 (&#x27;PCA&#x27;, PCA(n_components=3))]),\n",
       "                                 [&#x27;Gender&#x27;, &#x27;Married&#x27;, &#x27;Dependents&#x27;,\n",
       "                                  &#x27;Education&#x27;, &#x27;Self_Employed&#x27;,\n",
       "                                  &#x27;Loan_Amount_Term&#x27;, &#x27;Credit_History&#x27;,\n",
       "                                  &#x27;Property_Area&#x27;]),\n",
       "                                (&#x27;numerical_preprocessing&#x27;,\n",
       "                                 Pipeline(steps=[(&#x27;imputation&#x27;,\n",
       "                                                  SimpleImputer()),\n",
       "                                                 (&#x27;scale&#x27;, StandardScaler()),\n",
       "                                                 (&#x27;selectK_best&#x27;,\n",
       "                                                  SelectKBest(k=3))]),\n",
       "                                 [&#x27;ApplicantIncome&#x27;, &#x27;CoapplicantIncome&#x27;,\n",
       "                                  &#x27;LoanAmount&#x27;])])</pre></div></div></div><div class=\"sk-parallel\"><div class=\"sk-parallel-item\"><div class=\"sk-item\"><div class=\"sk-label-container\"><div class=\"sk-label sk-toggleable\"><input class=\"sk-toggleable__control sk-hidden--visually\" id=\"sk-estimator-id-16\" type=\"checkbox\" ><label for=\"sk-estimator-id-16\" class=\"sk-toggleable__label sk-toggleable__label-arrow\">categorical_preprocessing</label><div class=\"sk-toggleable__content\"><pre>[&#x27;Gender&#x27;, &#x27;Married&#x27;, &#x27;Dependents&#x27;, &#x27;Education&#x27;, &#x27;Self_Employed&#x27;, &#x27;Loan_Amount_Term&#x27;, &#x27;Credit_History&#x27;, &#x27;Property_Area&#x27;]</pre></div></div></div><div class=\"sk-serial\"><div class=\"sk-item\"><div class=\"sk-serial\"><div class=\"sk-item\"><div class=\"sk-estimator sk-toggleable\"><input class=\"sk-toggleable__control sk-hidden--visually\" id=\"sk-estimator-id-17\" type=\"checkbox\" ><label for=\"sk-estimator-id-17\" class=\"sk-toggleable__label sk-toggleable__label-arrow\">SimpleImputer</label><div class=\"sk-toggleable__content\"><pre>SimpleImputer(strategy=&#x27;most_frequent&#x27;)</pre></div></div></div><div class=\"sk-item\"><div class=\"sk-estimator sk-toggleable\"><input class=\"sk-toggleable__control sk-hidden--visually\" id=\"sk-estimator-id-18\" type=\"checkbox\" ><label for=\"sk-estimator-id-18\" class=\"sk-toggleable__label sk-toggleable__label-arrow\">OneHotEncoder</label><div class=\"sk-toggleable__content\"><pre>OneHotEncoder(sparse=False)</pre></div></div></div><div class=\"sk-item\"><div class=\"sk-estimator sk-toggleable\"><input class=\"sk-toggleable__control sk-hidden--visually\" id=\"sk-estimator-id-19\" type=\"checkbox\" ><label for=\"sk-estimator-id-19\" class=\"sk-toggleable__label sk-toggleable__label-arrow\">PCA</label><div class=\"sk-toggleable__content\"><pre>PCA(n_components=3)</pre></div></div></div></div></div></div></div></div><div class=\"sk-parallel-item\"><div class=\"sk-item\"><div class=\"sk-label-container\"><div class=\"sk-label sk-toggleable\"><input class=\"sk-toggleable__control sk-hidden--visually\" id=\"sk-estimator-id-20\" type=\"checkbox\" ><label for=\"sk-estimator-id-20\" class=\"sk-toggleable__label sk-toggleable__label-arrow\">numerical_preprocessing</label><div class=\"sk-toggleable__content\"><pre>[&#x27;ApplicantIncome&#x27;, &#x27;CoapplicantIncome&#x27;, &#x27;LoanAmount&#x27;]</pre></div></div></div><div class=\"sk-serial\"><div class=\"sk-item\"><div class=\"sk-serial\"><div class=\"sk-item\"><div class=\"sk-estimator sk-toggleable\"><input class=\"sk-toggleable__control sk-hidden--visually\" id=\"sk-estimator-id-21\" type=\"checkbox\" ><label for=\"sk-estimator-id-21\" class=\"sk-toggleable__label sk-toggleable__label-arrow\">SimpleImputer</label><div class=\"sk-toggleable__content\"><pre>SimpleImputer()</pre></div></div></div><div class=\"sk-item\"><div class=\"sk-estimator sk-toggleable\"><input class=\"sk-toggleable__control sk-hidden--visually\" id=\"sk-estimator-id-22\" type=\"checkbox\" ><label for=\"sk-estimator-id-22\" class=\"sk-toggleable__label sk-toggleable__label-arrow\">StandardScaler</label><div class=\"sk-toggleable__content\"><pre>StandardScaler()</pre></div></div></div><div class=\"sk-item\"><div class=\"sk-estimator sk-toggleable\"><input class=\"sk-toggleable__control sk-hidden--visually\" id=\"sk-estimator-id-23\" type=\"checkbox\" ><label for=\"sk-estimator-id-23\" class=\"sk-toggleable__label sk-toggleable__label-arrow\">SelectKBest</label><div class=\"sk-toggleable__content\"><pre>SelectKBest(k=3)</pre></div></div></div></div></div></div></div></div><div class=\"sk-parallel-item\"><div class=\"sk-item\"><div class=\"sk-label-container\"><div class=\"sk-label sk-toggleable\"><input class=\"sk-toggleable__control sk-hidden--visually\" id=\"sk-estimator-id-24\" type=\"checkbox\" ><label for=\"sk-estimator-id-24\" class=\"sk-toggleable__label sk-toggleable__label-arrow\">remainder</label><div class=\"sk-toggleable__content\"><pre></pre></div></div></div><div class=\"sk-serial\"><div class=\"sk-item\"><div class=\"sk-estimator sk-toggleable\"><input class=\"sk-toggleable__control sk-hidden--visually\" id=\"sk-estimator-id-25\" type=\"checkbox\" ><label for=\"sk-estimator-id-25\" class=\"sk-toggleable__label sk-toggleable__label-arrow\">passthrough</label><div class=\"sk-toggleable__content\"><pre>passthrough</pre></div></div></div></div></div></div></div></div><div class=\"sk-item\"><div class=\"sk-estimator sk-toggleable\"><input class=\"sk-toggleable__control sk-hidden--visually\" id=\"sk-estimator-id-26\" type=\"checkbox\" ><label for=\"sk-estimator-id-26\" class=\"sk-toggleable__label sk-toggleable__label-arrow\">GradientBoostingClassifier</label><div class=\"sk-toggleable__content\"><pre>GradientBoostingClassifier()</pre></div></div></div></div></div></div></div>"
      ],
      "text/plain": [
       "Pipeline(steps=[('preprocess',\n",
       "                 ColumnTransformer(remainder='passthrough',\n",
       "                                   transformers=[('categorical_preprocessing',\n",
       "                                                  Pipeline(steps=[('imputation',\n",
       "                                                                   SimpleImputer(strategy='most_frequent')),\n",
       "                                                                  ('ohe',\n",
       "                                                                   OneHotEncoder(sparse=False)),\n",
       "                                                                  ('PCA',\n",
       "                                                                   PCA(n_components=3))]),\n",
       "                                                  ['Gender', 'Married',\n",
       "                                                   'Dependents', 'Education',\n",
       "                                                   'Self_Employed',\n",
       "                                                   'Loan_Amount_Term',\n",
       "                                                   'Credit_History',\n",
       "                                                   'Property_Area']),\n",
       "                                                 ('numerical_preprocessing',\n",
       "                                                  Pipeline(steps=[('imputation',\n",
       "                                                                   SimpleImputer()),\n",
       "                                                                  ('scale',\n",
       "                                                                   StandardScaler()),\n",
       "                                                                  ('selectK_best',\n",
       "                                                                   SelectKBest(k=3))]),\n",
       "                                                  ['ApplicantIncome',\n",
       "                                                   'CoapplicantIncome',\n",
       "                                                   'LoanAmount'])])),\n",
       "                ('best_model', GradientBoostingClassifier())])"
      ]
     },
     "execution_count": 42,
     "metadata": {},
     "output_type": "execute_result"
    }
   ],
   "source": [
    "# create the final pipeline with preprocessing steps and \n",
    "# the final classifier step\n",
    "pipeline = Pipeline([\n",
    "    ('preprocess', preprocess),\n",
    "    ('best_model', Gb_clf)\n",
    "])\n",
    "\n",
    "pipeline"
   ]
  },
  {
   "cell_type": "code",
   "execution_count": 43,
   "id": "3e9ec671-ab85-4391-896a-79fd4148ee07",
   "metadata": {},
   "outputs": [
    {
     "data": {
      "text/html": [
       "<div>\n",
       "<style scoped>\n",
       "    .dataframe tbody tr th:only-of-type {\n",
       "        vertical-align: middle;\n",
       "    }\n",
       "\n",
       "    .dataframe tbody tr th {\n",
       "        vertical-align: top;\n",
       "    }\n",
       "\n",
       "    .dataframe thead th {\n",
       "        text-align: right;\n",
       "    }\n",
       "</style>\n",
       "<table border=\"1\" class=\"dataframe\">\n",
       "  <thead>\n",
       "    <tr style=\"text-align: right;\">\n",
       "      <th></th>\n",
       "      <th>ApplicantIncome</th>\n",
       "      <th>CoapplicantIncome</th>\n",
       "      <th>LoanAmount</th>\n",
       "      <th>TotalIncome</th>\n",
       "      <th>Gender</th>\n",
       "      <th>Married</th>\n",
       "      <th>Dependents</th>\n",
       "      <th>Education</th>\n",
       "      <th>Self_Employed</th>\n",
       "      <th>Loan_Amount_Term</th>\n",
       "      <th>Credit_History</th>\n",
       "      <th>Property_Area</th>\n",
       "    </tr>\n",
       "  </thead>\n",
       "  <tbody>\n",
       "    <tr>\n",
       "      <th>317</th>\n",
       "      <td>2058.0</td>\n",
       "      <td>2134.0</td>\n",
       "      <td>88.0</td>\n",
       "      <td>4192.0</td>\n",
       "      <td>Male</td>\n",
       "      <td>Yes</td>\n",
       "      <td>0</td>\n",
       "      <td>Graduate</td>\n",
       "      <td>No</td>\n",
       "      <td>30 year</td>\n",
       "      <td>Yes</td>\n",
       "      <td>Urban</td>\n",
       "    </tr>\n",
       "    <tr>\n",
       "      <th>385</th>\n",
       "      <td>3667.0</td>\n",
       "      <td>0.0</td>\n",
       "      <td>113.0</td>\n",
       "      <td>3667.0</td>\n",
       "      <td>Male</td>\n",
       "      <td>No</td>\n",
       "      <td>1</td>\n",
       "      <td>Graduate</td>\n",
       "      <td>No</td>\n",
       "      <td>15 year</td>\n",
       "      <td>Yes</td>\n",
       "      <td>Urban</td>\n",
       "    </tr>\n",
       "    <tr>\n",
       "      <th>309</th>\n",
       "      <td>7667.0</td>\n",
       "      <td>0.0</td>\n",
       "      <td>185.0</td>\n",
       "      <td>7667.0</td>\n",
       "      <td>Male</td>\n",
       "      <td>Yes</td>\n",
       "      <td>2</td>\n",
       "      <td>Not Graduate</td>\n",
       "      <td>No</td>\n",
       "      <td>30 year</td>\n",
       "      <td>Yes</td>\n",
       "      <td>Rural</td>\n",
       "    </tr>\n",
       "    <tr>\n",
       "      <th>399</th>\n",
       "      <td>1500.0</td>\n",
       "      <td>1800.0</td>\n",
       "      <td>103.0</td>\n",
       "      <td>3300.0</td>\n",
       "      <td>Female</td>\n",
       "      <td>No</td>\n",
       "      <td>0</td>\n",
       "      <td>Graduate</td>\n",
       "      <td>No</td>\n",
       "      <td>30 year</td>\n",
       "      <td>No</td>\n",
       "      <td>Semiurban</td>\n",
       "    </tr>\n",
       "    <tr>\n",
       "      <th>254</th>\n",
       "      <td>16250.0</td>\n",
       "      <td>0.0</td>\n",
       "      <td>192.0</td>\n",
       "      <td>16250.0</td>\n",
       "      <td>Male</td>\n",
       "      <td>No</td>\n",
       "      <td>0</td>\n",
       "      <td>Graduate</td>\n",
       "      <td>Yes</td>\n",
       "      <td>30 year</td>\n",
       "      <td>No</td>\n",
       "      <td>Urban</td>\n",
       "    </tr>\n",
       "  </tbody>\n",
       "</table>\n",
       "</div>"
      ],
      "text/plain": [
       "     ApplicantIncome  CoapplicantIncome  LoanAmount  TotalIncome  Gender  \\\n",
       "317           2058.0             2134.0        88.0       4192.0    Male   \n",
       "385           3667.0                0.0       113.0       3667.0    Male   \n",
       "309           7667.0                0.0       185.0       7667.0    Male   \n",
       "399           1500.0             1800.0       103.0       3300.0  Female   \n",
       "254          16250.0                0.0       192.0      16250.0    Male   \n",
       "\n",
       "    Married Dependents     Education Self_Employed Loan_Amount_Term  \\\n",
       "317     Yes          0      Graduate            No          30 year   \n",
       "385      No          1      Graduate            No          15 year   \n",
       "309     Yes          2  Not Graduate            No          30 year   \n",
       "399      No          0      Graduate            No          30 year   \n",
       "254      No          0      Graduate           Yes          30 year   \n",
       "\n",
       "    Credit_History Property_Area  \n",
       "317            Yes         Urban  \n",
       "385            Yes         Urban  \n",
       "309            Yes         Rural  \n",
       "399             No     Semiurban  \n",
       "254             No         Urban  "
      ]
     },
     "execution_count": 43,
     "metadata": {},
     "output_type": "execute_result"
    }
   ],
   "source": [
    "X_train.head()"
   ]
  },
  {
   "cell_type": "code",
   "execution_count": 44,
   "id": "af8fdea4-8b13-4937-aa50-f0b34fe1ef29",
   "metadata": {},
   "outputs": [
    {
     "data": {
      "text/plain": [
       "317    Y\n",
       "385    Y\n",
       "309    Y\n",
       "399    N\n",
       "254    N\n",
       "Name: Loan_Status, dtype: object"
      ]
     },
     "execution_count": 44,
     "metadata": {},
     "output_type": "execute_result"
    }
   ],
   "source": [
    "y_train.head()"
   ]
  },
  {
   "cell_type": "code",
   "execution_count": 45,
   "id": "6f9fe1e2-3788-44df-ba2c-c6dbfeac190f",
   "metadata": {},
   "outputs": [
    {
     "data": {
      "text/html": [
       "<style>#sk-container-id-5 {color: black;background-color: white;}#sk-container-id-5 pre{padding: 0;}#sk-container-id-5 div.sk-toggleable {background-color: white;}#sk-container-id-5 label.sk-toggleable__label {cursor: pointer;display: block;width: 100%;margin-bottom: 0;padding: 0.3em;box-sizing: border-box;text-align: center;}#sk-container-id-5 label.sk-toggleable__label-arrow:before {content: \"▸\";float: left;margin-right: 0.25em;color: #696969;}#sk-container-id-5 label.sk-toggleable__label-arrow:hover:before {color: black;}#sk-container-id-5 div.sk-estimator:hover label.sk-toggleable__label-arrow:before {color: black;}#sk-container-id-5 div.sk-toggleable__content {max-height: 0;max-width: 0;overflow: hidden;text-align: left;background-color: #f0f8ff;}#sk-container-id-5 div.sk-toggleable__content pre {margin: 0.2em;color: black;border-radius: 0.25em;background-color: #f0f8ff;}#sk-container-id-5 input.sk-toggleable__control:checked~div.sk-toggleable__content {max-height: 200px;max-width: 100%;overflow: auto;}#sk-container-id-5 input.sk-toggleable__control:checked~label.sk-toggleable__label-arrow:before {content: \"▾\";}#sk-container-id-5 div.sk-estimator input.sk-toggleable__control:checked~label.sk-toggleable__label {background-color: #d4ebff;}#sk-container-id-5 div.sk-label input.sk-toggleable__control:checked~label.sk-toggleable__label {background-color: #d4ebff;}#sk-container-id-5 input.sk-hidden--visually {border: 0;clip: rect(1px 1px 1px 1px);clip: rect(1px, 1px, 1px, 1px);height: 1px;margin: -1px;overflow: hidden;padding: 0;position: absolute;width: 1px;}#sk-container-id-5 div.sk-estimator {font-family: monospace;background-color: #f0f8ff;border: 1px dotted black;border-radius: 0.25em;box-sizing: border-box;margin-bottom: 0.5em;}#sk-container-id-5 div.sk-estimator:hover {background-color: #d4ebff;}#sk-container-id-5 div.sk-parallel-item::after {content: \"\";width: 100%;border-bottom: 1px solid gray;flex-grow: 1;}#sk-container-id-5 div.sk-label:hover label.sk-toggleable__label {background-color: #d4ebff;}#sk-container-id-5 div.sk-serial::before {content: \"\";position: absolute;border-left: 1px solid gray;box-sizing: border-box;top: 0;bottom: 0;left: 50%;z-index: 0;}#sk-container-id-5 div.sk-serial {display: flex;flex-direction: column;align-items: center;background-color: white;padding-right: 0.2em;padding-left: 0.2em;position: relative;}#sk-container-id-5 div.sk-item {position: relative;z-index: 1;}#sk-container-id-5 div.sk-parallel {display: flex;align-items: stretch;justify-content: center;background-color: white;position: relative;}#sk-container-id-5 div.sk-item::before, #sk-container-id-5 div.sk-parallel-item::before {content: \"\";position: absolute;border-left: 1px solid gray;box-sizing: border-box;top: 0;bottom: 0;left: 50%;z-index: -1;}#sk-container-id-5 div.sk-parallel-item {display: flex;flex-direction: column;z-index: 1;position: relative;background-color: white;}#sk-container-id-5 div.sk-parallel-item:first-child::after {align-self: flex-end;width: 50%;}#sk-container-id-5 div.sk-parallel-item:last-child::after {align-self: flex-start;width: 50%;}#sk-container-id-5 div.sk-parallel-item:only-child::after {width: 0;}#sk-container-id-5 div.sk-dashed-wrapped {border: 1px dashed gray;margin: 0 0.4em 0.5em 0.4em;box-sizing: border-box;padding-bottom: 0.4em;background-color: white;}#sk-container-id-5 div.sk-label label {font-family: monospace;font-weight: bold;display: inline-block;line-height: 1.2em;}#sk-container-id-5 div.sk-label-container {text-align: center;}#sk-container-id-5 div.sk-container {/* jupyter's `normalize.less` sets `[hidden] { display: none; }` but bootstrap.min.css set `[hidden] { display: none !important; }` so we also need the `!important` here to be able to override the default hidden behavior on the sphinx rendered scikit-learn.org. See: https://github.com/scikit-learn/scikit-learn/issues/21755 */display: inline-block !important;position: relative;}#sk-container-id-5 div.sk-text-repr-fallback {display: none;}</style><div id=\"sk-container-id-5\" class=\"sk-top-container\"><div class=\"sk-text-repr-fallback\"><pre>Pipeline(steps=[(&#x27;preprocess&#x27;,\n",
       "                 ColumnTransformer(remainder=&#x27;passthrough&#x27;,\n",
       "                                   transformers=[(&#x27;categorical_preprocessing&#x27;,\n",
       "                                                  Pipeline(steps=[(&#x27;imputation&#x27;,\n",
       "                                                                   SimpleImputer(strategy=&#x27;most_frequent&#x27;)),\n",
       "                                                                  (&#x27;ohe&#x27;,\n",
       "                                                                   OneHotEncoder(sparse=False)),\n",
       "                                                                  (&#x27;PCA&#x27;,\n",
       "                                                                   PCA(n_components=3))]),\n",
       "                                                  [&#x27;Gender&#x27;, &#x27;Married&#x27;,\n",
       "                                                   &#x27;Dependents&#x27;, &#x27;Education&#x27;,\n",
       "                                                   &#x27;Self_Employed&#x27;,\n",
       "                                                   &#x27;Loan_Amount_Term&#x27;,\n",
       "                                                   &#x27;Credit_History&#x27;,\n",
       "                                                   &#x27;Property_Area&#x27;]),\n",
       "                                                 (&#x27;numerical_preprocessing&#x27;,\n",
       "                                                  Pipeline(steps=[(&#x27;imputation&#x27;,\n",
       "                                                                   SimpleImputer()),\n",
       "                                                                  (&#x27;scale&#x27;,\n",
       "                                                                   StandardScaler()),\n",
       "                                                                  (&#x27;selectK_best&#x27;,\n",
       "                                                                   SelectKBest(k=3))]),\n",
       "                                                  [&#x27;ApplicantIncome&#x27;,\n",
       "                                                   &#x27;CoapplicantIncome&#x27;,\n",
       "                                                   &#x27;LoanAmount&#x27;])])),\n",
       "                (&#x27;best_model&#x27;, GradientBoostingClassifier())])</pre><b>In a Jupyter environment, please rerun this cell to show the HTML representation or trust the notebook. <br />On GitHub, the HTML representation is unable to render, please try loading this page with nbviewer.org.</b></div><div class=\"sk-container\" hidden><div class=\"sk-item sk-dashed-wrapped\"><div class=\"sk-label-container\"><div class=\"sk-label sk-toggleable\"><input class=\"sk-toggleable__control sk-hidden--visually\" id=\"sk-estimator-id-27\" type=\"checkbox\" ><label for=\"sk-estimator-id-27\" class=\"sk-toggleable__label sk-toggleable__label-arrow\">Pipeline</label><div class=\"sk-toggleable__content\"><pre>Pipeline(steps=[(&#x27;preprocess&#x27;,\n",
       "                 ColumnTransformer(remainder=&#x27;passthrough&#x27;,\n",
       "                                   transformers=[(&#x27;categorical_preprocessing&#x27;,\n",
       "                                                  Pipeline(steps=[(&#x27;imputation&#x27;,\n",
       "                                                                   SimpleImputer(strategy=&#x27;most_frequent&#x27;)),\n",
       "                                                                  (&#x27;ohe&#x27;,\n",
       "                                                                   OneHotEncoder(sparse=False)),\n",
       "                                                                  (&#x27;PCA&#x27;,\n",
       "                                                                   PCA(n_components=3))]),\n",
       "                                                  [&#x27;Gender&#x27;, &#x27;Married&#x27;,\n",
       "                                                   &#x27;Dependents&#x27;, &#x27;Education&#x27;,\n",
       "                                                   &#x27;Self_Employed&#x27;,\n",
       "                                                   &#x27;Loan_Amount_Term&#x27;,\n",
       "                                                   &#x27;Credit_History&#x27;,\n",
       "                                                   &#x27;Property_Area&#x27;]),\n",
       "                                                 (&#x27;numerical_preprocessing&#x27;,\n",
       "                                                  Pipeline(steps=[(&#x27;imputation&#x27;,\n",
       "                                                                   SimpleImputer()),\n",
       "                                                                  (&#x27;scale&#x27;,\n",
       "                                                                   StandardScaler()),\n",
       "                                                                  (&#x27;selectK_best&#x27;,\n",
       "                                                                   SelectKBest(k=3))]),\n",
       "                                                  [&#x27;ApplicantIncome&#x27;,\n",
       "                                                   &#x27;CoapplicantIncome&#x27;,\n",
       "                                                   &#x27;LoanAmount&#x27;])])),\n",
       "                (&#x27;best_model&#x27;, GradientBoostingClassifier())])</pre></div></div></div><div class=\"sk-serial\"><div class=\"sk-item sk-dashed-wrapped\"><div class=\"sk-label-container\"><div class=\"sk-label sk-toggleable\"><input class=\"sk-toggleable__control sk-hidden--visually\" id=\"sk-estimator-id-28\" type=\"checkbox\" ><label for=\"sk-estimator-id-28\" class=\"sk-toggleable__label sk-toggleable__label-arrow\">preprocess: ColumnTransformer</label><div class=\"sk-toggleable__content\"><pre>ColumnTransformer(remainder=&#x27;passthrough&#x27;,\n",
       "                  transformers=[(&#x27;categorical_preprocessing&#x27;,\n",
       "                                 Pipeline(steps=[(&#x27;imputation&#x27;,\n",
       "                                                  SimpleImputer(strategy=&#x27;most_frequent&#x27;)),\n",
       "                                                 (&#x27;ohe&#x27;,\n",
       "                                                  OneHotEncoder(sparse=False)),\n",
       "                                                 (&#x27;PCA&#x27;, PCA(n_components=3))]),\n",
       "                                 [&#x27;Gender&#x27;, &#x27;Married&#x27;, &#x27;Dependents&#x27;,\n",
       "                                  &#x27;Education&#x27;, &#x27;Self_Employed&#x27;,\n",
       "                                  &#x27;Loan_Amount_Term&#x27;, &#x27;Credit_History&#x27;,\n",
       "                                  &#x27;Property_Area&#x27;]),\n",
       "                                (&#x27;numerical_preprocessing&#x27;,\n",
       "                                 Pipeline(steps=[(&#x27;imputation&#x27;,\n",
       "                                                  SimpleImputer()),\n",
       "                                                 (&#x27;scale&#x27;, StandardScaler()),\n",
       "                                                 (&#x27;selectK_best&#x27;,\n",
       "                                                  SelectKBest(k=3))]),\n",
       "                                 [&#x27;ApplicantIncome&#x27;, &#x27;CoapplicantIncome&#x27;,\n",
       "                                  &#x27;LoanAmount&#x27;])])</pre></div></div></div><div class=\"sk-parallel\"><div class=\"sk-parallel-item\"><div class=\"sk-item\"><div class=\"sk-label-container\"><div class=\"sk-label sk-toggleable\"><input class=\"sk-toggleable__control sk-hidden--visually\" id=\"sk-estimator-id-29\" type=\"checkbox\" ><label for=\"sk-estimator-id-29\" class=\"sk-toggleable__label sk-toggleable__label-arrow\">categorical_preprocessing</label><div class=\"sk-toggleable__content\"><pre>[&#x27;Gender&#x27;, &#x27;Married&#x27;, &#x27;Dependents&#x27;, &#x27;Education&#x27;, &#x27;Self_Employed&#x27;, &#x27;Loan_Amount_Term&#x27;, &#x27;Credit_History&#x27;, &#x27;Property_Area&#x27;]</pre></div></div></div><div class=\"sk-serial\"><div class=\"sk-item\"><div class=\"sk-serial\"><div class=\"sk-item\"><div class=\"sk-estimator sk-toggleable\"><input class=\"sk-toggleable__control sk-hidden--visually\" id=\"sk-estimator-id-30\" type=\"checkbox\" ><label for=\"sk-estimator-id-30\" class=\"sk-toggleable__label sk-toggleable__label-arrow\">SimpleImputer</label><div class=\"sk-toggleable__content\"><pre>SimpleImputer(strategy=&#x27;most_frequent&#x27;)</pre></div></div></div><div class=\"sk-item\"><div class=\"sk-estimator sk-toggleable\"><input class=\"sk-toggleable__control sk-hidden--visually\" id=\"sk-estimator-id-31\" type=\"checkbox\" ><label for=\"sk-estimator-id-31\" class=\"sk-toggleable__label sk-toggleable__label-arrow\">OneHotEncoder</label><div class=\"sk-toggleable__content\"><pre>OneHotEncoder(sparse=False)</pre></div></div></div><div class=\"sk-item\"><div class=\"sk-estimator sk-toggleable\"><input class=\"sk-toggleable__control sk-hidden--visually\" id=\"sk-estimator-id-32\" type=\"checkbox\" ><label for=\"sk-estimator-id-32\" class=\"sk-toggleable__label sk-toggleable__label-arrow\">PCA</label><div class=\"sk-toggleable__content\"><pre>PCA(n_components=3)</pre></div></div></div></div></div></div></div></div><div class=\"sk-parallel-item\"><div class=\"sk-item\"><div class=\"sk-label-container\"><div class=\"sk-label sk-toggleable\"><input class=\"sk-toggleable__control sk-hidden--visually\" id=\"sk-estimator-id-33\" type=\"checkbox\" ><label for=\"sk-estimator-id-33\" class=\"sk-toggleable__label sk-toggleable__label-arrow\">numerical_preprocessing</label><div class=\"sk-toggleable__content\"><pre>[&#x27;ApplicantIncome&#x27;, &#x27;CoapplicantIncome&#x27;, &#x27;LoanAmount&#x27;]</pre></div></div></div><div class=\"sk-serial\"><div class=\"sk-item\"><div class=\"sk-serial\"><div class=\"sk-item\"><div class=\"sk-estimator sk-toggleable\"><input class=\"sk-toggleable__control sk-hidden--visually\" id=\"sk-estimator-id-34\" type=\"checkbox\" ><label for=\"sk-estimator-id-34\" class=\"sk-toggleable__label sk-toggleable__label-arrow\">SimpleImputer</label><div class=\"sk-toggleable__content\"><pre>SimpleImputer()</pre></div></div></div><div class=\"sk-item\"><div class=\"sk-estimator sk-toggleable\"><input class=\"sk-toggleable__control sk-hidden--visually\" id=\"sk-estimator-id-35\" type=\"checkbox\" ><label for=\"sk-estimator-id-35\" class=\"sk-toggleable__label sk-toggleable__label-arrow\">StandardScaler</label><div class=\"sk-toggleable__content\"><pre>StandardScaler()</pre></div></div></div><div class=\"sk-item\"><div class=\"sk-estimator sk-toggleable\"><input class=\"sk-toggleable__control sk-hidden--visually\" id=\"sk-estimator-id-36\" type=\"checkbox\" ><label for=\"sk-estimator-id-36\" class=\"sk-toggleable__label sk-toggleable__label-arrow\">SelectKBest</label><div class=\"sk-toggleable__content\"><pre>SelectKBest(k=3)</pre></div></div></div></div></div></div></div></div><div class=\"sk-parallel-item\"><div class=\"sk-item\"><div class=\"sk-label-container\"><div class=\"sk-label sk-toggleable\"><input class=\"sk-toggleable__control sk-hidden--visually\" id=\"sk-estimator-id-37\" type=\"checkbox\" ><label for=\"sk-estimator-id-37\" class=\"sk-toggleable__label sk-toggleable__label-arrow\">remainder</label><div class=\"sk-toggleable__content\"><pre>[&#x27;TotalIncome&#x27;]</pre></div></div></div><div class=\"sk-serial\"><div class=\"sk-item\"><div class=\"sk-estimator sk-toggleable\"><input class=\"sk-toggleable__control sk-hidden--visually\" id=\"sk-estimator-id-38\" type=\"checkbox\" ><label for=\"sk-estimator-id-38\" class=\"sk-toggleable__label sk-toggleable__label-arrow\">passthrough</label><div class=\"sk-toggleable__content\"><pre>passthrough</pre></div></div></div></div></div></div></div></div><div class=\"sk-item\"><div class=\"sk-estimator sk-toggleable\"><input class=\"sk-toggleable__control sk-hidden--visually\" id=\"sk-estimator-id-39\" type=\"checkbox\" ><label for=\"sk-estimator-id-39\" class=\"sk-toggleable__label sk-toggleable__label-arrow\">GradientBoostingClassifier</label><div class=\"sk-toggleable__content\"><pre>GradientBoostingClassifier()</pre></div></div></div></div></div></div></div>"
      ],
      "text/plain": [
       "Pipeline(steps=[('preprocess',\n",
       "                 ColumnTransformer(remainder='passthrough',\n",
       "                                   transformers=[('categorical_preprocessing',\n",
       "                                                  Pipeline(steps=[('imputation',\n",
       "                                                                   SimpleImputer(strategy='most_frequent')),\n",
       "                                                                  ('ohe',\n",
       "                                                                   OneHotEncoder(sparse=False)),\n",
       "                                                                  ('PCA',\n",
       "                                                                   PCA(n_components=3))]),\n",
       "                                                  ['Gender', 'Married',\n",
       "                                                   'Dependents', 'Education',\n",
       "                                                   'Self_Employed',\n",
       "                                                   'Loan_Amount_Term',\n",
       "                                                   'Credit_History',\n",
       "                                                   'Property_Area']),\n",
       "                                                 ('numerical_preprocessing',\n",
       "                                                  Pipeline(steps=[('imputation',\n",
       "                                                                   SimpleImputer()),\n",
       "                                                                  ('scale',\n",
       "                                                                   StandardScaler()),\n",
       "                                                                  ('selectK_best',\n",
       "                                                                   SelectKBest(k=3))]),\n",
       "                                                  ['ApplicantIncome',\n",
       "                                                   'CoapplicantIncome',\n",
       "                                                   'LoanAmount'])])),\n",
       "                ('best_model', GradientBoostingClassifier())])"
      ]
     },
     "execution_count": 45,
     "metadata": {},
     "output_type": "execute_result"
    }
   ],
   "source": [
    "# Call the pipeline on the training data\n",
    "\n",
    "pipeline.fit(X_train, y_train)"
   ]
  },
  {
   "cell_type": "code",
   "execution_count": 46,
   "id": "e5af7be7-ff05-4a89-b00a-e602eea89aab",
   "metadata": {},
   "outputs": [
    {
     "data": {
      "text/plain": [
       "0.7386363636363636"
      ]
     },
     "execution_count": 46,
     "metadata": {},
     "output_type": "execute_result"
    }
   ],
   "source": [
    "pipeline.score(X_test, y_test)"
   ]
  },
  {
   "cell_type": "code",
   "execution_count": 47,
   "id": "8d37aa9c-955d-4155-9457-a6fa8f4fc061",
   "metadata": {},
   "outputs": [
    {
     "data": {
      "text/plain": [
       "array(['Y', 'Y', 'Y', 'Y', 'Y', 'Y', 'Y', 'Y', 'Y', 'Y', 'N', 'Y', 'Y',\n",
       "       'Y', 'Y', 'Y', 'N', 'Y', 'Y', 'Y', 'Y', 'Y', 'Y', 'Y', 'Y', 'N',\n",
       "       'Y', 'Y', 'Y', 'N', 'N', 'Y', 'Y', 'Y', 'Y', 'N', 'Y', 'N', 'Y',\n",
       "       'Y', 'Y', 'Y', 'Y', 'Y', 'Y', 'Y', 'Y', 'Y', 'Y', 'Y', 'N', 'Y',\n",
       "       'Y', 'Y', 'Y', 'Y', 'Y', 'Y', 'Y', 'Y', 'Y', 'Y', 'Y', 'Y', 'Y',\n",
       "       'N', 'N', 'N', 'Y', 'Y', 'Y', 'Y', 'Y', 'Y', 'N', 'Y', 'Y', 'Y',\n",
       "       'Y', 'Y', 'Y', 'Y', 'Y', 'Y', 'Y', 'N', 'Y', 'Y', 'Y', 'Y', 'Y',\n",
       "       'Y', 'Y', 'Y', 'Y', 'Y', 'Y', 'Y', 'Y', 'N', 'Y', 'Y', 'Y', 'Y',\n",
       "       'N', 'Y', 'Y', 'Y', 'Y', 'Y', 'N', 'Y', 'N', 'Y', 'N', 'Y', 'Y',\n",
       "       'Y', 'N', 'Y', 'Y', 'Y', 'Y', 'Y', 'Y', 'N', 'Y', 'Y', 'Y', 'Y',\n",
       "       'N', 'N', 'Y', 'N', 'Y', 'Y', 'Y', 'Y', 'N', 'Y', 'Y', 'Y', 'Y',\n",
       "       'Y', 'Y', 'Y', 'Y', 'N', 'Y', 'Y', 'Y', 'Y', 'Y', 'N', 'Y', 'Y',\n",
       "       'Y', 'Y', 'Y', 'Y', 'Y', 'Y', 'Y', 'Y', 'Y', 'Y', 'Y', 'Y', 'Y',\n",
       "       'Y', 'Y', 'Y', 'Y', 'N', 'Y', 'Y'], dtype=object)"
      ]
     },
     "execution_count": 47,
     "metadata": {},
     "output_type": "execute_result"
    }
   ],
   "source": [
    "pipeline.predict(X_test)"
   ]
  },
  {
   "cell_type": "markdown",
   "id": "4fdeeeda-cca7-437e-9dc7-124f97669b0a",
   "metadata": {},
   "source": [
    "### Use GridSearch to improve predictive scores"
   ]
  },
  {
   "cell_type": "code",
   "execution_count": 48,
   "id": "a7f5ea03-0604-466b-b134-76d7f478fd22",
   "metadata": {},
   "outputs": [],
   "source": [
    "from sklearn.model_selection import GridSearchCV"
   ]
  },
  {
   "cell_type": "code",
   "execution_count": 49,
   "id": "4c7eb543-f9b5-4e1c-a0be-5ef135f452a6",
   "metadata": {},
   "outputs": [],
   "source": [
    "param_grid = {'best_model__max_depth': [1,2,3],\n",
    "              'best_model__n_estimators': [1,2,3],\n",
    "              'preprocess__categorical_preprocessing__PCA__n_components': [1,2,3]\n",
    "             }"
   ]
  },
  {
   "cell_type": "code",
   "execution_count": null,
   "id": "61946270-2d9b-4f40-80f9-82f94bf29c27",
   "metadata": {},
   "outputs": [],
   "source": [
    "# create a Grid Search object\n",
    "grid = GridSearchCV(pipeline, param_grid, n_jobs=-1, verbose=10, refit=True)\n",
    "\n",
    "grid.fit(X_train, y_train)"
   ]
  },
  {
   "cell_type": "code",
   "execution_count": 51,
   "id": "40d47a22-3f35-4089-8db6-15b97e7e7f16",
   "metadata": {},
   "outputs": [
    {
     "data": {
      "text/plain": [
       "{'best_model__max_depth': 1,\n",
       " 'best_model__n_estimators': 1,\n",
       " 'preprocess__categorical_preprocessing__PCA__n_components': 1}"
      ]
     },
     "execution_count": 51,
     "metadata": {},
     "output_type": "execute_result"
    }
   ],
   "source": [
    "best_param_grid = grid.best_params_\n",
    "best_param_grid"
   ]
  },
  {
   "cell_type": "code",
   "execution_count": 52,
   "id": "1e8a7087-0ce6-492a-827b-055daf690873",
   "metadata": {},
   "outputs": [
    {
     "name": "stdout",
     "output_type": "stream",
     "text": [
      "Final prediction is:  0.6420454545454546\n",
      "[CV 3/5; 1/27] START best_model__max_depth=1, best_model__n_estimators=1, preprocess__categorical_preprocessing__PCA__n_components=1\n",
      "[CV 3/5; 1/27] END best_model__max_depth=1, best_model__n_estimators=1, preprocess__categorical_preprocessing__PCA__n_components=1;, score=0.707 total time=   0.2s\n",
      "[CV 3/5; 3/27] START best_model__max_depth=1, best_model__n_estimators=1, preprocess__categorical_preprocessing__PCA__n_components=3\n",
      "[CV 3/5; 3/27] END best_model__max_depth=1, best_model__n_estimators=1, preprocess__categorical_preprocessing__PCA__n_components=3;, score=0.707 total time=   0.1s\n",
      "[CV 2/5; 4/27] START best_model__max_depth=1, best_model__n_estimators=2, preprocess__categorical_preprocessing__PCA__n_components=1\n",
      "[CV 2/5; 4/27] END best_model__max_depth=1, best_model__n_estimators=2, preprocess__categorical_preprocessing__PCA__n_components=1;, score=nan total time=   0.1s\n",
      "[CV 1/5; 5/27] START best_model__max_depth=1, best_model__n_estimators=2, preprocess__categorical_preprocessing__PCA__n_components=2\n",
      "[CV 1/5; 5/27] END best_model__max_depth=1, best_model__n_estimators=2, preprocess__categorical_preprocessing__PCA__n_components=2;, score=0.720 total time=   0.1s\n",
      "[CV 5/5; 5/27] START best_model__max_depth=1, best_model__n_estimators=2, preprocess__categorical_preprocessing__PCA__n_components=2\n",
      "[CV 5/5; 5/27] END best_model__max_depth=1, best_model__n_estimators=2, preprocess__categorical_preprocessing__PCA__n_components=2;, score=nan total time=   0.1s\n",
      "[CV 2/5; 6/27] START best_model__max_depth=1, best_model__n_estimators=2, preprocess__categorical_preprocessing__PCA__n_components=3\n",
      "[CV 2/5; 6/27] END best_model__max_depth=1, best_model__n_estimators=2, preprocess__categorical_preprocessing__PCA__n_components=3;, score=nan total time=   0.1s\n",
      "[CV 1/5; 7/27] START best_model__max_depth=1, best_model__n_estimators=3, preprocess__categorical_preprocessing__PCA__n_components=1\n",
      "[CV 1/5; 7/27] END best_model__max_depth=1, best_model__n_estimators=3, preprocess__categorical_preprocessing__PCA__n_components=1;, score=0.720 total time=   0.1s\n",
      "[CV 5/5; 7/27] START best_model__max_depth=1, best_model__n_estimators=3, preprocess__categorical_preprocessing__PCA__n_components=1\n",
      "[CV 5/5; 7/27] END best_model__max_depth=1, best_model__n_estimators=3, preprocess__categorical_preprocessing__PCA__n_components=1;, score=nan total time=   0.1s\n",
      "[CV 4/5; 8/27] START best_model__max_depth=1, best_model__n_estimators=3, preprocess__categorical_preprocessing__PCA__n_components=2\n",
      "[CV 4/5; 8/27] END best_model__max_depth=1, best_model__n_estimators=3, preprocess__categorical_preprocessing__PCA__n_components=2;, score=0.707 total time=   0.1s\n",
      "[CV 4/5; 9/27] START best_model__max_depth=1, best_model__n_estimators=3, preprocess__categorical_preprocessing__PCA__n_components=3\n",
      "[CV 4/5; 9/27] END best_model__max_depth=1, best_model__n_estimators=3, preprocess__categorical_preprocessing__PCA__n_components=3;, score=0.707 total time=   0.1s\n",
      "[CV 3/5; 10/27] START best_model__max_depth=2, best_model__n_estimators=1, preprocess__categorical_preprocessing__PCA__n_components=1\n",
      "[CV 3/5; 10/27] END best_model__max_depth=2, best_model__n_estimators=1, preprocess__categorical_preprocessing__PCA__n_components=1;, score=0.707 total time=   0.0s\n",
      "[CV 5/5; 11/27] START best_model__max_depth=2, best_model__n_estimators=1, preprocess__categorical_preprocessing__PCA__n_components=2\n",
      "[CV 5/5; 11/27] END best_model__max_depth=2, best_model__n_estimators=1, preprocess__categorical_preprocessing__PCA__n_components=2;, score=nan total time=   0.0s\n",
      "[CV 1/5; 12/27] START best_model__max_depth=2, best_model__n_estimators=1, preprocess__categorical_preprocessing__PCA__n_components=3\n",
      "[CV 1/5; 12/27] END best_model__max_depth=2, best_model__n_estimators=1, preprocess__categorical_preprocessing__PCA__n_components=3;, score=0.720 total time=   0.2s\n",
      "[CV 4/5; 14/27] START best_model__max_depth=2, best_model__n_estimators=2, preprocess__categorical_preprocessing__PCA__n_components=2\n",
      "[CV 4/5; 14/27] END best_model__max_depth=2, best_model__n_estimators=2, preprocess__categorical_preprocessing__PCA__n_components=2;, score=0.707 total time=   0.1s\n",
      "[CV 5/5; 14/27] START best_model__max_depth=2, best_model__n_estimators=2, preprocess__categorical_preprocessing__PCA__n_components=2\n",
      "[CV 5/5; 14/27] END best_model__max_depth=2, best_model__n_estimators=2, preprocess__categorical_preprocessing__PCA__n_components=2;, score=nan total time=   0.0s\n",
      "[CV 1/5; 15/27] START best_model__max_depth=2, best_model__n_estimators=2, preprocess__categorical_preprocessing__PCA__n_components=3\n",
      "[CV 1/5; 15/27] END best_model__max_depth=2, best_model__n_estimators=2, preprocess__categorical_preprocessing__PCA__n_components=3;, score=0.720 total time=   0.1s\n",
      "[CV 2/5; 15/27] START best_model__max_depth=2, best_model__n_estimators=2, preprocess__categorical_preprocessing__PCA__n_components=3\n",
      "[CV 2/5; 15/27] END best_model__max_depth=2, best_model__n_estimators=2, preprocess__categorical_preprocessing__PCA__n_components=3;, score=nan total time=   0.0s\n",
      "[CV 5/5; 17/27] START best_model__max_depth=2, best_model__n_estimators=3, preprocess__categorical_preprocessing__PCA__n_components=2\n",
      "[CV 5/5; 17/27] END best_model__max_depth=2, best_model__n_estimators=3, preprocess__categorical_preprocessing__PCA__n_components=2;, score=nan total time=   0.1s\n",
      "[CV 1/5; 18/27] START best_model__max_depth=2, best_model__n_estimators=3, preprocess__categorical_preprocessing__PCA__n_components=3\n",
      "[CV 1/5; 18/27] END best_model__max_depth=2, best_model__n_estimators=3, preprocess__categorical_preprocessing__PCA__n_components=3;, score=0.720 total time=   0.1s\n",
      "[CV 2/5; 18/27] START best_model__max_depth=2, best_model__n_estimators=3, preprocess__categorical_preprocessing__PCA__n_components=3\n",
      "[CV 2/5; 18/27] END best_model__max_depth=2, best_model__n_estimators=3, preprocess__categorical_preprocessing__PCA__n_components=3;, score=nan total time=   0.1s\n",
      "[CV 3/5; 18/27] START best_model__max_depth=2, best_model__n_estimators=3, preprocess__categorical_preprocessing__PCA__n_components=3\n",
      "[CV 3/5; 18/27] END best_model__max_depth=2, best_model__n_estimators=3, preprocess__categorical_preprocessing__PCA__n_components=3;, score=0.707 total time=   0.1s\n",
      "[CV 1/5; 21/27] START best_model__max_depth=3, best_model__n_estimators=1, preprocess__categorical_preprocessing__PCA__n_components=3\n",
      "[CV 1/5; 21/27] END best_model__max_depth=3, best_model__n_estimators=1, preprocess__categorical_preprocessing__PCA__n_components=3;, score=0.720 total time=   0.1s\n",
      "[CV 2/5; 21/27] START best_model__max_depth=3, best_model__n_estimators=1, preprocess__categorical_preprocessing__PCA__n_components=3\n",
      "[CV 2/5; 21/27] END best_model__max_depth=3, best_model__n_estimators=1, preprocess__categorical_preprocessing__PCA__n_components=3;, score=nan total time=   0.1s\n",
      "[CV 3/5; 21/27] START best_model__max_depth=3, best_model__n_estimators=1, preprocess__categorical_preprocessing__PCA__n_components=3\n",
      "[CV 3/5; 21/27] END best_model__max_depth=3, best_model__n_estimators=1, preprocess__categorical_preprocessing__PCA__n_components=3;, score=0.707 total time=   0.1s\n",
      "[CV 4/5; 21/27] START best_model__max_depth=3, best_model__n_estimators=1, preprocess__categorical_preprocessing__PCA__n_components=3\n",
      "[CV 4/5; 21/27] END best_model__max_depth=3, best_model__n_estimators=1, preprocess__categorical_preprocessing__PCA__n_components=3;, score=0.707 total time=   0.1s\n",
      "[CV 2/5; 24/27] START best_model__max_depth=3, best_model__n_estimators=2, preprocess__categorical_preprocessing__PCA__n_components=3\n",
      "[CV 2/5; 24/27] END best_model__max_depth=3, best_model__n_estimators=2, preprocess__categorical_preprocessing__PCA__n_components=3;, score=nan total time=   0.1s\n",
      "[CV 3/5; 24/27] START best_model__max_depth=3, best_model__n_estimators=2, preprocess__categorical_preprocessing__PCA__n_components=3\n",
      "[CV 3/5; 24/27] END best_model__max_depth=3, best_model__n_estimators=2, preprocess__categorical_preprocessing__PCA__n_components=3;, score=0.707 total time=   0.1s\n",
      "[CV 4/5; 24/27] START best_model__max_depth=3, best_model__n_estimators=2, preprocess__categorical_preprocessing__PCA__n_components=3\n",
      "[CV 4/5; 24/27] END best_model__max_depth=3, best_model__n_estimators=2, preprocess__categorical_preprocessing__PCA__n_components=3;, score=0.707 total time=   0.1s\n",
      "[CV 5/5; 24/27] START best_model__max_depth=3, best_model__n_estimators=2, preprocess__categorical_preprocessing__PCA__n_components=3\n",
      "[CV 5/5; 24/27] END best_model__max_depth=3, best_model__n_estimators=2, preprocess__categorical_preprocessing__PCA__n_components=3;, score=nan total time=   0.1s\n",
      "[CV 1/5; 27/27] START best_model__max_depth=3, best_model__n_estimators=3, preprocess__categorical_preprocessing__PCA__n_components=3\n",
      "[CV 1/5; 27/27] END best_model__max_depth=3, best_model__n_estimators=3, preprocess__categorical_preprocessing__PCA__n_components=3;, score=0.720 total time=   0.1s\n",
      "[CV 5/5; 27/27] START best_model__max_depth=3, best_model__n_estimators=3, preprocess__categorical_preprocessing__PCA__n_components=3\n",
      "[CV 5/5; 27/27] END best_model__max_depth=3, best_model__n_estimators=3, preprocess__categorical_preprocessing__PCA__n_components=3;, score=nan total time=   0.0s\n",
      "[CV 1/5; 1/27] START best_model__max_depth=1, best_model__n_estimators=1, preprocess__categorical_preprocessing__PCA__n_components=1\n",
      "[CV 1/5; 1/27] END best_model__max_depth=1, best_model__n_estimators=1, preprocess__categorical_preprocessing__PCA__n_components=1;, score=0.720 total time=   0.0s\n",
      "[CV 5/5; 1/27] START best_model__max_depth=1, best_model__n_estimators=1, preprocess__categorical_preprocessing__PCA__n_components=1\n",
      "[CV 5/5; 1/27] END best_model__max_depth=1, best_model__n_estimators=1, preprocess__categorical_preprocessing__PCA__n_components=1;, score=nan total time=   0.1s\n",
      "[CV 3/5; 2/27] START best_model__max_depth=1, best_model__n_estimators=1, preprocess__categorical_preprocessing__PCA__n_components=2\n",
      "[CV 3/5; 2/27] END best_model__max_depth=1, best_model__n_estimators=1, preprocess__categorical_preprocessing__PCA__n_components=2;, score=0.707 total time=   0.1s\n",
      "[CV 2/5; 3/27] START best_model__max_depth=1, best_model__n_estimators=1, preprocess__categorical_preprocessing__PCA__n_components=3\n",
      "[CV 2/5; 3/27] END best_model__max_depth=1, best_model__n_estimators=1, preprocess__categorical_preprocessing__PCA__n_components=3;, score=nan total time=   0.1s\n",
      "[CV 5/5; 3/27] START best_model__max_depth=1, best_model__n_estimators=1, preprocess__categorical_preprocessing__PCA__n_components=3\n",
      "[CV 5/5; 3/27] END best_model__max_depth=1, best_model__n_estimators=1, preprocess__categorical_preprocessing__PCA__n_components=3;, score=nan total time=   0.1s\n",
      "[CV 4/5; 4/27] START best_model__max_depth=1, best_model__n_estimators=2, preprocess__categorical_preprocessing__PCA__n_components=1\n",
      "[CV 4/5; 4/27] END best_model__max_depth=1, best_model__n_estimators=2, preprocess__categorical_preprocessing__PCA__n_components=1;, score=0.707 total time=   0.1s\n",
      "[CV 3/5; 5/27] START best_model__max_depth=1, best_model__n_estimators=2, preprocess__categorical_preprocessing__PCA__n_components=2\n",
      "[CV 3/5; 5/27] END best_model__max_depth=1, best_model__n_estimators=2, preprocess__categorical_preprocessing__PCA__n_components=2;, score=0.707 total time=   0.1s\n",
      "[CV 3/5; 6/27] START best_model__max_depth=1, best_model__n_estimators=2, preprocess__categorical_preprocessing__PCA__n_components=3\n",
      "[CV 3/5; 6/27] END best_model__max_depth=1, best_model__n_estimators=2, preprocess__categorical_preprocessing__PCA__n_components=3;, score=0.707 total time=   0.1s\n",
      "[CV 3/5; 7/27] START best_model__max_depth=1, best_model__n_estimators=3, preprocess__categorical_preprocessing__PCA__n_components=1\n",
      "[CV 3/5; 7/27] END best_model__max_depth=1, best_model__n_estimators=3, preprocess__categorical_preprocessing__PCA__n_components=1;, score=0.707 total time=   0.1s\n",
      "[CV 2/5; 8/27] START best_model__max_depth=1, best_model__n_estimators=3, preprocess__categorical_preprocessing__PCA__n_components=2\n",
      "[CV 2/5; 8/27] END best_model__max_depth=1, best_model__n_estimators=3, preprocess__categorical_preprocessing__PCA__n_components=2;, score=nan total time=   0.1s\n",
      "[CV 5/5; 8/27] START best_model__max_depth=1, best_model__n_estimators=3, preprocess__categorical_preprocessing__PCA__n_components=2\n",
      "[CV 5/5; 8/27] END best_model__max_depth=1, best_model__n_estimators=3, preprocess__categorical_preprocessing__PCA__n_components=2;, score=nan total time=   0.0s\n",
      "[CV 3/5; 9/27] START best_model__max_depth=1, best_model__n_estimators=3, preprocess__categorical_preprocessing__PCA__n_components=3\n",
      "[CV 3/5; 9/27] END best_model__max_depth=1, best_model__n_estimators=3, preprocess__categorical_preprocessing__PCA__n_components=3;, score=0.707 total time=   0.1s\n",
      "[CV 2/5; 10/27] START best_model__max_depth=2, best_model__n_estimators=1, preprocess__categorical_preprocessing__PCA__n_components=1\n",
      "[CV 2/5; 10/27] END best_model__max_depth=2, best_model__n_estimators=1, preprocess__categorical_preprocessing__PCA__n_components=1;, score=nan total time=   0.0s\n",
      "[CV 3/5; 11/27] START best_model__max_depth=2, best_model__n_estimators=1, preprocess__categorical_preprocessing__PCA__n_components=2\n",
      "[CV 3/5; 11/27] END best_model__max_depth=2, best_model__n_estimators=1, preprocess__categorical_preprocessing__PCA__n_components=2;, score=0.707 total time=   0.1s\n",
      "[CV 4/5; 11/27] START best_model__max_depth=2, best_model__n_estimators=1, preprocess__categorical_preprocessing__PCA__n_components=2\n",
      "[CV 4/5; 11/27] END best_model__max_depth=2, best_model__n_estimators=1, preprocess__categorical_preprocessing__PCA__n_components=2;, score=0.707 total time=   0.0s\n",
      "[CV 1/5; 13/27] START best_model__max_depth=2, best_model__n_estimators=2, preprocess__categorical_preprocessing__PCA__n_components=1\n",
      "[CV 1/5; 13/27] END best_model__max_depth=2, best_model__n_estimators=2, preprocess__categorical_preprocessing__PCA__n_components=1;, score=0.720 total time=   0.0s\n",
      "[CV 2/5; 13/27] START best_model__max_depth=2, best_model__n_estimators=2, preprocess__categorical_preprocessing__PCA__n_components=1\n",
      "[CV 2/5; 13/27] END best_model__max_depth=2, best_model__n_estimators=2, preprocess__categorical_preprocessing__PCA__n_components=1;, score=nan total time=   0.0s\n",
      "[CV 5/5; 13/27] START best_model__max_depth=2, best_model__n_estimators=2, preprocess__categorical_preprocessing__PCA__n_components=1\n",
      "[CV 5/5; 13/27] END best_model__max_depth=2, best_model__n_estimators=2, preprocess__categorical_preprocessing__PCA__n_components=1;, score=nan total time=   0.0s\n",
      "[CV 1/5; 14/27] START best_model__max_depth=2, best_model__n_estimators=2, preprocess__categorical_preprocessing__PCA__n_components=2\n",
      "[CV 1/5; 14/27] END best_model__max_depth=2, best_model__n_estimators=2, preprocess__categorical_preprocessing__PCA__n_components=2;, score=0.720 total time=   0.1s\n",
      "[CV 2/5; 14/27] START best_model__max_depth=2, best_model__n_estimators=2, preprocess__categorical_preprocessing__PCA__n_components=2\n",
      "[CV 2/5; 14/27] END best_model__max_depth=2, best_model__n_estimators=2, preprocess__categorical_preprocessing__PCA__n_components=2;, score=nan total time=   0.1s\n",
      "[CV 3/5; 14/27] START best_model__max_depth=2, best_model__n_estimators=2, preprocess__categorical_preprocessing__PCA__n_components=2\n",
      "[CV 3/5; 14/27] END best_model__max_depth=2, best_model__n_estimators=2, preprocess__categorical_preprocessing__PCA__n_components=2;, score=0.707 total time=   0.1s\n",
      "[CV 1/5; 17/27] START best_model__max_depth=2, best_model__n_estimators=3, preprocess__categorical_preprocessing__PCA__n_components=2\n",
      "[CV 1/5; 17/27] END best_model__max_depth=2, best_model__n_estimators=3, preprocess__categorical_preprocessing__PCA__n_components=2;, score=0.720 total time=   0.1s\n",
      "[CV 2/5; 17/27] START best_model__max_depth=2, best_model__n_estimators=3, preprocess__categorical_preprocessing__PCA__n_components=2\n",
      "[CV 2/5; 17/27] END best_model__max_depth=2, best_model__n_estimators=3, preprocess__categorical_preprocessing__PCA__n_components=2;, score=nan total time=   0.1s\n",
      "[CV 3/5; 17/27] START best_model__max_depth=2, best_model__n_estimators=3, preprocess__categorical_preprocessing__PCA__n_components=2\n",
      "[CV 3/5; 17/27] END best_model__max_depth=2, best_model__n_estimators=3, preprocess__categorical_preprocessing__PCA__n_components=2;, score=0.707 total time=   0.1s\n",
      "[CV 4/5; 17/27] START best_model__max_depth=2, best_model__n_estimators=3, preprocess__categorical_preprocessing__PCA__n_components=2\n",
      "[CV 4/5; 17/27] END best_model__max_depth=2, best_model__n_estimators=3, preprocess__categorical_preprocessing__PCA__n_components=2;, score=0.707 total time=   0.1s\n",
      "[CV 2/5; 20/27] START best_model__max_depth=3, best_model__n_estimators=1, preprocess__categorical_preprocessing__PCA__n_components=2\n",
      "[CV 2/5; 20/27] END best_model__max_depth=3, best_model__n_estimators=1, preprocess__categorical_preprocessing__PCA__n_components=2;, score=nan total time=   0.1s\n",
      "[CV 3/5; 20/27] START best_model__max_depth=3, best_model__n_estimators=1, preprocess__categorical_preprocessing__PCA__n_components=2\n",
      "[CV 3/5; 20/27] END best_model__max_depth=3, best_model__n_estimators=1, preprocess__categorical_preprocessing__PCA__n_components=2;, score=0.707 total time=   0.1s\n",
      "[CV 4/5; 20/27] START best_model__max_depth=3, best_model__n_estimators=1, preprocess__categorical_preprocessing__PCA__n_components=2\n",
      "[CV 4/5; 20/27] END best_model__max_depth=3, best_model__n_estimators=1, preprocess__categorical_preprocessing__PCA__n_components=2;, score=0.707 total time=   0.1s\n",
      "[CV 5/5; 20/27] START best_model__max_depth=3, best_model__n_estimators=1, preprocess__categorical_preprocessing__PCA__n_components=2\n",
      "[CV 5/5; 20/27] END best_model__max_depth=3, best_model__n_estimators=1, preprocess__categorical_preprocessing__PCA__n_components=2;, score=nan total time=   0.1s\n",
      "[CV 3/5; 23/27] START best_model__max_depth=3, best_model__n_estimators=2, preprocess__categorical_preprocessing__PCA__n_components=2\n",
      "[CV 3/5; 23/27] END best_model__max_depth=3, best_model__n_estimators=2, preprocess__categorical_preprocessing__PCA__n_components=2;, score=0.707 total time=   0.1s\n",
      "[CV 4/5; 23/27] START best_model__max_depth=3, best_model__n_estimators=2, preprocess__categorical_preprocessing__PCA__n_components=2\n",
      "[CV 4/5; 23/27] END best_model__max_depth=3, best_model__n_estimators=2, preprocess__categorical_preprocessing__PCA__n_components=2;, score=0.707 total time=   0.1s\n",
      "[CV 5/5; 23/27] START best_model__max_depth=3, best_model__n_estimators=2, preprocess__categorical_preprocessing__PCA__n_components=2\n",
      "[CV 5/5; 23/27] END best_model__max_depth=3, best_model__n_estimators=2, preprocess__categorical_preprocessing__PCA__n_components=2;, score=nan total time=   0.1s\n",
      "[CV 1/5; 24/27] START best_model__max_depth=3, best_model__n_estimators=2, preprocess__categorical_preprocessing__PCA__n_components=3\n",
      "[CV 1/5; 24/27] END best_model__max_depth=3, best_model__n_estimators=2, preprocess__categorical_preprocessing__PCA__n_components=3;, score=0.720 total time=   0.1s\n",
      "[CV 4/5; 26/27] START best_model__max_depth=3, best_model__n_estimators=3, preprocess__categorical_preprocessing__PCA__n_components=2\n",
      "[CV 4/5; 26/27] END best_model__max_depth=3, best_model__n_estimators=3, preprocess__categorical_preprocessing__PCA__n_components=2;, score=0.707 total time=   0.1s\n",
      "[CV 5/5; 26/27] START best_model__max_depth=3, best_model__n_estimators=3, preprocess__categorical_preprocessing__PCA__n_components=2\n",
      "[CV 5/5; 26/27] END best_model__max_depth=3, best_model__n_estimators=3, preprocess__categorical_preprocessing__PCA__n_components=2;, score=nan total time=   0.1s\n",
      "[CV 3/5; 27/27] START best_model__max_depth=3, best_model__n_estimators=3, preprocess__categorical_preprocessing__PCA__n_components=3\n",
      "[CV 3/5; 27/27] END best_model__max_depth=3, best_model__n_estimators=3, preprocess__categorical_preprocessing__PCA__n_components=3;, score=0.707 total time=   0.1s\n",
      "[CV 4/5; 1/27] START best_model__max_depth=1, best_model__n_estimators=1, preprocess__categorical_preprocessing__PCA__n_components=1\n",
      "[CV 4/5; 1/27] END best_model__max_depth=1, best_model__n_estimators=1, preprocess__categorical_preprocessing__PCA__n_components=1;, score=0.707 total time=   0.1s\n",
      "[CV 2/5; 2/27] START best_model__max_depth=1, best_model__n_estimators=1, preprocess__categorical_preprocessing__PCA__n_components=2\n",
      "[CV 2/5; 2/27] END best_model__max_depth=1, best_model__n_estimators=1, preprocess__categorical_preprocessing__PCA__n_components=2;, score=nan total time=   0.1s\n",
      "[CV 4/5; 2/27] START best_model__max_depth=1, best_model__n_estimators=1, preprocess__categorical_preprocessing__PCA__n_components=2\n",
      "[CV 4/5; 2/27] END best_model__max_depth=1, best_model__n_estimators=1, preprocess__categorical_preprocessing__PCA__n_components=2;, score=0.707 total time=   0.1s\n",
      "[CV 4/5; 3/27] START best_model__max_depth=1, best_model__n_estimators=1, preprocess__categorical_preprocessing__PCA__n_components=3\n",
      "[CV 4/5; 3/27] END best_model__max_depth=1, best_model__n_estimators=1, preprocess__categorical_preprocessing__PCA__n_components=3;, score=0.707 total time=   0.1s\n",
      "[CV 3/5; 4/27] START best_model__max_depth=1, best_model__n_estimators=2, preprocess__categorical_preprocessing__PCA__n_components=1\n",
      "[CV 3/5; 4/27] END best_model__max_depth=1, best_model__n_estimators=2, preprocess__categorical_preprocessing__PCA__n_components=1;, score=0.707 total time=   0.1s\n",
      "[CV 2/5; 5/27] START best_model__max_depth=1, best_model__n_estimators=2, preprocess__categorical_preprocessing__PCA__n_components=2\n",
      "[CV 2/5; 5/27] END best_model__max_depth=1, best_model__n_estimators=2, preprocess__categorical_preprocessing__PCA__n_components=2;, score=nan total time=   0.1s\n",
      "[CV 1/5; 6/27] START best_model__max_depth=1, best_model__n_estimators=2, preprocess__categorical_preprocessing__PCA__n_components=3\n",
      "[CV 1/5; 6/27] END best_model__max_depth=1, best_model__n_estimators=2, preprocess__categorical_preprocessing__PCA__n_components=3;, score=0.720 total time=   0.1s\n",
      "[CV 5/5; 6/27] START best_model__max_depth=1, best_model__n_estimators=2, preprocess__categorical_preprocessing__PCA__n_components=3\n",
      "[CV 5/5; 6/27] END best_model__max_depth=1, best_model__n_estimators=2, preprocess__categorical_preprocessing__PCA__n_components=3;, score=nan total time=   0.1s\n",
      "[CV 4/5; 7/27] START best_model__max_depth=1, best_model__n_estimators=3, preprocess__categorical_preprocessing__PCA__n_components=1\n",
      "[CV 4/5; 7/27] END best_model__max_depth=1, best_model__n_estimators=3, preprocess__categorical_preprocessing__PCA__n_components=1;, score=0.707 total time=   0.1s\n",
      "[CV 3/5; 8/27] START best_model__max_depth=1, best_model__n_estimators=3, preprocess__categorical_preprocessing__PCA__n_components=2\n",
      "[CV 3/5; 8/27] END best_model__max_depth=1, best_model__n_estimators=3, preprocess__categorical_preprocessing__PCA__n_components=2;, score=0.707 total time=   0.1s\n",
      "[CV 2/5; 9/27] START best_model__max_depth=1, best_model__n_estimators=3, preprocess__categorical_preprocessing__PCA__n_components=3\n",
      "[CV 2/5; 9/27] END best_model__max_depth=1, best_model__n_estimators=3, preprocess__categorical_preprocessing__PCA__n_components=3;, score=nan total time=   0.1s\n",
      "[CV 5/5; 9/27] START best_model__max_depth=1, best_model__n_estimators=3, preprocess__categorical_preprocessing__PCA__n_components=3\n",
      "[CV 5/5; 9/27] END best_model__max_depth=1, best_model__n_estimators=3, preprocess__categorical_preprocessing__PCA__n_components=3;, score=nan total time=   0.1s\n",
      "[CV 4/5; 10/27] START best_model__max_depth=2, best_model__n_estimators=1, preprocess__categorical_preprocessing__PCA__n_components=1\n",
      "[CV 4/5; 10/27] END best_model__max_depth=2, best_model__n_estimators=1, preprocess__categorical_preprocessing__PCA__n_components=1;, score=0.707 total time=   0.1s\n",
      "[CV 5/5; 10/27] START best_model__max_depth=2, best_model__n_estimators=1, preprocess__categorical_preprocessing__PCA__n_components=1\n",
      "[CV 5/5; 10/27] END best_model__max_depth=2, best_model__n_estimators=1, preprocess__categorical_preprocessing__PCA__n_components=1;, score=nan total time=   0.0s\n",
      "[CV 2/5; 12/27] START best_model__max_depth=2, best_model__n_estimators=1, preprocess__categorical_preprocessing__PCA__n_components=3\n",
      "[CV 2/5; 12/27] END best_model__max_depth=2, best_model__n_estimators=1, preprocess__categorical_preprocessing__PCA__n_components=3;, score=nan total time=   0.2s\n",
      "[CV 3/5; 12/27] START best_model__max_depth=2, best_model__n_estimators=1, preprocess__categorical_preprocessing__PCA__n_components=3\n",
      "[CV 3/5; 12/27] END best_model__max_depth=2, best_model__n_estimators=1, preprocess__categorical_preprocessing__PCA__n_components=3;, score=0.707 total time=   0.1s\n",
      "[CV 2/5; 16/27] START best_model__max_depth=2, best_model__n_estimators=3, preprocess__categorical_preprocessing__PCA__n_components=1\n",
      "[CV 2/5; 16/27] END best_model__max_depth=2, best_model__n_estimators=3, preprocess__categorical_preprocessing__PCA__n_components=1;, score=nan total time=   0.1s\n",
      "[CV 3/5; 16/27] START best_model__max_depth=2, best_model__n_estimators=3, preprocess__categorical_preprocessing__PCA__n_components=1\n",
      "[CV 3/5; 16/27] END best_model__max_depth=2, best_model__n_estimators=3, preprocess__categorical_preprocessing__PCA__n_components=1;, score=0.707 total time=   0.1s\n",
      "[CV 4/5; 16/27] START best_model__max_depth=2, best_model__n_estimators=3, preprocess__categorical_preprocessing__PCA__n_components=1\n",
      "[CV 4/5; 16/27] END best_model__max_depth=2, best_model__n_estimators=3, preprocess__categorical_preprocessing__PCA__n_components=1;, score=0.707 total time=   0.1s\n",
      "[CV 5/5; 16/27] START best_model__max_depth=2, best_model__n_estimators=3, preprocess__categorical_preprocessing__PCA__n_components=1\n",
      "[CV 5/5; 16/27] END best_model__max_depth=2, best_model__n_estimators=3, preprocess__categorical_preprocessing__PCA__n_components=1;, score=nan total time=   0.1s\n",
      "[CV 3/5; 19/27] START best_model__max_depth=3, best_model__n_estimators=1, preprocess__categorical_preprocessing__PCA__n_components=1\n",
      "[CV 3/5; 19/27] END best_model__max_depth=3, best_model__n_estimators=1, preprocess__categorical_preprocessing__PCA__n_components=1;, score=0.707 total time=   0.1s\n",
      "[CV 4/5; 19/27] START best_model__max_depth=3, best_model__n_estimators=1, preprocess__categorical_preprocessing__PCA__n_components=1\n",
      "[CV 4/5; 19/27] END best_model__max_depth=3, best_model__n_estimators=1, preprocess__categorical_preprocessing__PCA__n_components=1;, score=0.707 total time=   0.1s\n",
      "[CV 5/5; 19/27] START best_model__max_depth=3, best_model__n_estimators=1, preprocess__categorical_preprocessing__PCA__n_components=1\n",
      "[CV 5/5; 19/27] END best_model__max_depth=3, best_model__n_estimators=1, preprocess__categorical_preprocessing__PCA__n_components=1;, score=nan total time=   0.1s\n",
      "[CV 1/5; 20/27] START best_model__max_depth=3, best_model__n_estimators=1, preprocess__categorical_preprocessing__PCA__n_components=2\n",
      "[CV 1/5; 20/27] END best_model__max_depth=3, best_model__n_estimators=1, preprocess__categorical_preprocessing__PCA__n_components=2;, score=0.720 total time=   0.1s\n",
      "[CV 4/5; 22/27] START best_model__max_depth=3, best_model__n_estimators=2, preprocess__categorical_preprocessing__PCA__n_components=1\n",
      "[CV 4/5; 22/27] END best_model__max_depth=3, best_model__n_estimators=2, preprocess__categorical_preprocessing__PCA__n_components=1;, score=0.707 total time=   0.1s\n",
      "[CV 5/5; 22/27] START best_model__max_depth=3, best_model__n_estimators=2, preprocess__categorical_preprocessing__PCA__n_components=1\n",
      "[CV 5/5; 22/27] END best_model__max_depth=3, best_model__n_estimators=2, preprocess__categorical_preprocessing__PCA__n_components=1;, score=nan total time=   0.1s\n",
      "[CV 1/5; 23/27] START best_model__max_depth=3, best_model__n_estimators=2, preprocess__categorical_preprocessing__PCA__n_components=2\n",
      "[CV 1/5; 23/27] END best_model__max_depth=3, best_model__n_estimators=2, preprocess__categorical_preprocessing__PCA__n_components=2;, score=0.720 total time=   0.1s\n",
      "[CV 2/5; 23/27] START best_model__max_depth=3, best_model__n_estimators=2, preprocess__categorical_preprocessing__PCA__n_components=2\n",
      "[CV 2/5; 23/27] END best_model__max_depth=3, best_model__n_estimators=2, preprocess__categorical_preprocessing__PCA__n_components=2;, score=nan total time=   0.1s\n",
      "[CV 5/5; 25/27] START best_model__max_depth=3, best_model__n_estimators=3, preprocess__categorical_preprocessing__PCA__n_components=1\n",
      "[CV 5/5; 25/27] END best_model__max_depth=3, best_model__n_estimators=3, preprocess__categorical_preprocessing__PCA__n_components=1;, score=nan total time=   0.1s\n",
      "[CV 1/5; 26/27] START best_model__max_depth=3, best_model__n_estimators=3, preprocess__categorical_preprocessing__PCA__n_components=2\n",
      "[CV 1/5; 26/27] END best_model__max_depth=3, best_model__n_estimators=3, preprocess__categorical_preprocessing__PCA__n_components=2;, score=0.720 total time=   0.1s\n",
      "[CV 2/5; 26/27] START best_model__max_depth=3, best_model__n_estimators=3, preprocess__categorical_preprocessing__PCA__n_components=2\n",
      "[CV 2/5; 26/27] END best_model__max_depth=3, best_model__n_estimators=3, preprocess__categorical_preprocessing__PCA__n_components=2;, score=nan total time=   0.1s\n",
      "[CV 3/5; 26/27] START best_model__max_depth=3, best_model__n_estimators=3, preprocess__categorical_preprocessing__PCA__n_components=2\n",
      "[CV 3/5; 26/27] END best_model__max_depth=3, best_model__n_estimators=3, preprocess__categorical_preprocessing__PCA__n_components=2;, score=0.707 total time=   0.1s\n",
      "[CV 4/5; 27/27] START best_model__max_depth=3, best_model__n_estimators=3, preprocess__categorical_preprocessing__PCA__n_components=3\n",
      "[CV 4/5; 27/27] END best_model__max_depth=3, best_model__n_estimators=3, preprocess__categorical_preprocessing__PCA__n_components=3;, score=0.707 total time=   0.1s\n",
      "[CV 2/5; 1/27] START best_model__max_depth=1, best_model__n_estimators=1, preprocess__categorical_preprocessing__PCA__n_components=1\n",
      "[CV 2/5; 1/27] END best_model__max_depth=1, best_model__n_estimators=1, preprocess__categorical_preprocessing__PCA__n_components=1;, score=nan total time=   0.1s\n",
      "[CV 1/5; 2/27] START best_model__max_depth=1, best_model__n_estimators=1, preprocess__categorical_preprocessing__PCA__n_components=2\n",
      "[CV 1/5; 2/27] END best_model__max_depth=1, best_model__n_estimators=1, preprocess__categorical_preprocessing__PCA__n_components=2;, score=0.720 total time=   0.1s\n",
      "[CV 5/5; 2/27] START best_model__max_depth=1, best_model__n_estimators=1, preprocess__categorical_preprocessing__PCA__n_components=2\n",
      "[CV 5/5; 2/27] END best_model__max_depth=1, best_model__n_estimators=1, preprocess__categorical_preprocessing__PCA__n_components=2;, score=nan total time=   0.1s\n",
      "[CV 1/5; 3/27] START best_model__max_depth=1, best_model__n_estimators=1, preprocess__categorical_preprocessing__PCA__n_components=3\n",
      "[CV 1/5; 3/27] END best_model__max_depth=1, best_model__n_estimators=1, preprocess__categorical_preprocessing__PCA__n_components=3;, score=0.720 total time=   0.1s\n",
      "[CV 1/5; 4/27] START best_model__max_depth=1, best_model__n_estimators=2, preprocess__categorical_preprocessing__PCA__n_components=1\n",
      "[CV 1/5; 4/27] END best_model__max_depth=1, best_model__n_estimators=2, preprocess__categorical_preprocessing__PCA__n_components=1;, score=0.720 total time=   0.1s\n",
      "[CV 5/5; 4/27] START best_model__max_depth=1, best_model__n_estimators=2, preprocess__categorical_preprocessing__PCA__n_components=1\n",
      "[CV 5/5; 4/27] END best_model__max_depth=1, best_model__n_estimators=2, preprocess__categorical_preprocessing__PCA__n_components=1;, score=nan total time=   0.1s\n",
      "[CV 4/5; 5/27] START best_model__max_depth=1, best_model__n_estimators=2, preprocess__categorical_preprocessing__PCA__n_components=2\n",
      "[CV 4/5; 5/27] END best_model__max_depth=1, best_model__n_estimators=2, preprocess__categorical_preprocessing__PCA__n_components=2;, score=0.707 total time=   0.1s\n",
      "[CV 4/5; 6/27] START best_model__max_depth=1, best_model__n_estimators=2, preprocess__categorical_preprocessing__PCA__n_components=3\n",
      "[CV 4/5; 6/27] END best_model__max_depth=1, best_model__n_estimators=2, preprocess__categorical_preprocessing__PCA__n_components=3;, score=0.707 total time=   0.1s\n",
      "[CV 2/5; 7/27] START best_model__max_depth=1, best_model__n_estimators=3, preprocess__categorical_preprocessing__PCA__n_components=1\n",
      "[CV 2/5; 7/27] END best_model__max_depth=1, best_model__n_estimators=3, preprocess__categorical_preprocessing__PCA__n_components=1;, score=nan total time=   0.1s\n",
      "[CV 1/5; 8/27] START best_model__max_depth=1, best_model__n_estimators=3, preprocess__categorical_preprocessing__PCA__n_components=2\n",
      "[CV 1/5; 8/27] END best_model__max_depth=1, best_model__n_estimators=3, preprocess__categorical_preprocessing__PCA__n_components=2;, score=0.720 total time=   0.1s\n",
      "[CV 1/5; 9/27] START best_model__max_depth=1, best_model__n_estimators=3, preprocess__categorical_preprocessing__PCA__n_components=3\n",
      "[CV 1/5; 9/27] END best_model__max_depth=1, best_model__n_estimators=3, preprocess__categorical_preprocessing__PCA__n_components=3;, score=0.720 total time=   0.1s\n",
      "[CV 1/5; 10/27] START best_model__max_depth=2, best_model__n_estimators=1, preprocess__categorical_preprocessing__PCA__n_components=1\n",
      "[CV 1/5; 10/27] END best_model__max_depth=2, best_model__n_estimators=1, preprocess__categorical_preprocessing__PCA__n_components=1;, score=0.720 total time=   0.1s\n",
      "[CV 1/5; 11/27] START best_model__max_depth=2, best_model__n_estimators=1, preprocess__categorical_preprocessing__PCA__n_components=2\n",
      "[CV 1/5; 11/27] END best_model__max_depth=2, best_model__n_estimators=1, preprocess__categorical_preprocessing__PCA__n_components=2;, score=0.720 total time=   0.0s\n",
      "[CV 2/5; 11/27] START best_model__max_depth=2, best_model__n_estimators=1, preprocess__categorical_preprocessing__PCA__n_components=2\n",
      "[CV 2/5; 11/27] END best_model__max_depth=2, best_model__n_estimators=1, preprocess__categorical_preprocessing__PCA__n_components=2;, score=nan total time=   0.0s\n",
      "[CV 4/5; 12/27] START best_model__max_depth=2, best_model__n_estimators=1, preprocess__categorical_preprocessing__PCA__n_components=3\n",
      "[CV 4/5; 12/27] END best_model__max_depth=2, best_model__n_estimators=1, preprocess__categorical_preprocessing__PCA__n_components=3;, score=0.707 total time=   0.0s\n",
      "[CV 5/5; 12/27] START best_model__max_depth=2, best_model__n_estimators=1, preprocess__categorical_preprocessing__PCA__n_components=3\n",
      "[CV 5/5; 12/27] END best_model__max_depth=2, best_model__n_estimators=1, preprocess__categorical_preprocessing__PCA__n_components=3;, score=nan total time=   0.0s\n",
      "[CV 3/5; 13/27] START best_model__max_depth=2, best_model__n_estimators=2, preprocess__categorical_preprocessing__PCA__n_components=1\n",
      "[CV 3/5; 13/27] END best_model__max_depth=2, best_model__n_estimators=2, preprocess__categorical_preprocessing__PCA__n_components=1;, score=0.707 total time=   0.0s\n",
      "[CV 4/5; 13/27] START best_model__max_depth=2, best_model__n_estimators=2, preprocess__categorical_preprocessing__PCA__n_components=1\n",
      "[CV 4/5; 13/27] END best_model__max_depth=2, best_model__n_estimators=2, preprocess__categorical_preprocessing__PCA__n_components=1;, score=0.707 total time=   0.1s\n",
      "[CV 3/5; 15/27] START best_model__max_depth=2, best_model__n_estimators=2, preprocess__categorical_preprocessing__PCA__n_components=3\n",
      "[CV 3/5; 15/27] END best_model__max_depth=2, best_model__n_estimators=2, preprocess__categorical_preprocessing__PCA__n_components=3;, score=0.707 total time=   0.1s\n",
      "[CV 4/5; 15/27] START best_model__max_depth=2, best_model__n_estimators=2, preprocess__categorical_preprocessing__PCA__n_components=3\n",
      "[CV 4/5; 15/27] END best_model__max_depth=2, best_model__n_estimators=2, preprocess__categorical_preprocessing__PCA__n_components=3;, score=0.707 total time=   0.1s\n",
      "[CV 5/5; 15/27] START best_model__max_depth=2, best_model__n_estimators=2, preprocess__categorical_preprocessing__PCA__n_components=3\n",
      "[CV 5/5; 15/27] END best_model__max_depth=2, best_model__n_estimators=2, preprocess__categorical_preprocessing__PCA__n_components=3;, score=nan total time=   0.1s\n",
      "[CV 1/5; 16/27] START best_model__max_depth=2, best_model__n_estimators=3, preprocess__categorical_preprocessing__PCA__n_components=1\n",
      "[CV 1/5; 16/27] END best_model__max_depth=2, best_model__n_estimators=3, preprocess__categorical_preprocessing__PCA__n_components=1;, score=0.720 total time=   0.1s\n",
      "[CV 4/5; 18/27] START best_model__max_depth=2, best_model__n_estimators=3, preprocess__categorical_preprocessing__PCA__n_components=3\n",
      "[CV 4/5; 18/27] END best_model__max_depth=2, best_model__n_estimators=3, preprocess__categorical_preprocessing__PCA__n_components=3;, score=0.707 total time=   0.1s\n",
      "[CV 5/5; 18/27] START best_model__max_depth=2, best_model__n_estimators=3, preprocess__categorical_preprocessing__PCA__n_components=3\n",
      "[CV 5/5; 18/27] END best_model__max_depth=2, best_model__n_estimators=3, preprocess__categorical_preprocessing__PCA__n_components=3;, score=nan total time=   0.1s\n",
      "[CV 1/5; 19/27] START best_model__max_depth=3, best_model__n_estimators=1, preprocess__categorical_preprocessing__PCA__n_components=1\n",
      "[CV 1/5; 19/27] END best_model__max_depth=3, best_model__n_estimators=1, preprocess__categorical_preprocessing__PCA__n_components=1;, score=0.720 total time=   0.1s\n",
      "[CV 2/5; 19/27] START best_model__max_depth=3, best_model__n_estimators=1, preprocess__categorical_preprocessing__PCA__n_components=1\n",
      "[CV 2/5; 19/27] END best_model__max_depth=3, best_model__n_estimators=1, preprocess__categorical_preprocessing__PCA__n_components=1;, score=nan total time=   0.1s\n",
      "[CV 5/5; 21/27] START best_model__max_depth=3, best_model__n_estimators=1, preprocess__categorical_preprocessing__PCA__n_components=3\n",
      "[CV 5/5; 21/27] END best_model__max_depth=3, best_model__n_estimators=1, preprocess__categorical_preprocessing__PCA__n_components=3;, score=nan total time=   0.1s\n",
      "[CV 1/5; 22/27] START best_model__max_depth=3, best_model__n_estimators=2, preprocess__categorical_preprocessing__PCA__n_components=1\n",
      "[CV 1/5; 22/27] END best_model__max_depth=3, best_model__n_estimators=2, preprocess__categorical_preprocessing__PCA__n_components=1;, score=0.720 total time=   0.1s\n",
      "[CV 2/5; 22/27] START best_model__max_depth=3, best_model__n_estimators=2, preprocess__categorical_preprocessing__PCA__n_components=1\n",
      "[CV 2/5; 22/27] END best_model__max_depth=3, best_model__n_estimators=2, preprocess__categorical_preprocessing__PCA__n_components=1;, score=nan total time=   0.1s\n",
      "[CV 3/5; 22/27] START best_model__max_depth=3, best_model__n_estimators=2, preprocess__categorical_preprocessing__PCA__n_components=1\n",
      "[CV 3/5; 22/27] END best_model__max_depth=3, best_model__n_estimators=2, preprocess__categorical_preprocessing__PCA__n_components=1;, score=0.707 total time=   0.1s\n",
      "[CV 1/5; 25/27] START best_model__max_depth=3, best_model__n_estimators=3, preprocess__categorical_preprocessing__PCA__n_components=1\n",
      "[CV 1/5; 25/27] END best_model__max_depth=3, best_model__n_estimators=3, preprocess__categorical_preprocessing__PCA__n_components=1;, score=0.720 total time=   0.1s\n",
      "[CV 2/5; 25/27] START best_model__max_depth=3, best_model__n_estimators=3, preprocess__categorical_preprocessing__PCA__n_components=1\n",
      "[CV 2/5; 25/27] END best_model__max_depth=3, best_model__n_estimators=3, preprocess__categorical_preprocessing__PCA__n_components=1;, score=nan total time=   0.1s\n",
      "[CV 3/5; 25/27] START best_model__max_depth=3, best_model__n_estimators=3, preprocess__categorical_preprocessing__PCA__n_components=1\n",
      "[CV 3/5; 25/27] END best_model__max_depth=3, best_model__n_estimators=3, preprocess__categorical_preprocessing__PCA__n_components=1;, score=0.707 total time=   0.1s\n",
      "[CV 4/5; 25/27] START best_model__max_depth=3, best_model__n_estimators=3, preprocess__categorical_preprocessing__PCA__n_components=1\n",
      "[CV 4/5; 25/27] END best_model__max_depth=3, best_model__n_estimators=3, preprocess__categorical_preprocessing__PCA__n_components=1;, score=0.707 total time=   0.1s\n",
      "[CV 2/5; 27/27] START best_model__max_depth=3, best_model__n_estimators=3, preprocess__categorical_preprocessing__PCA__n_components=3\n",
      "[CV 2/5; 27/27] END best_model__max_depth=3, best_model__n_estimators=3, preprocess__categorical_preprocessing__PCA__n_components=3;, score=nan total time=   0.1s\n"
     ]
    }
   ],
   "source": [
    "print('Final prediction is: ', grid.score(X_test, y_test))"
   ]
  },
  {
   "cell_type": "markdown",
   "id": "a43518ba-17fb-4007-b605-a58f520e5bd5",
   "metadata": {},
   "source": [
    "## Save Model with Pickle"
   ]
  },
  {
   "cell_type": "code",
   "execution_count": 53,
   "id": "2ee0bdae-f3b2-4511-bb1c-90d9401482b0",
   "metadata": {},
   "outputs": [],
   "source": [
    "import pickle"
   ]
  },
  {
   "cell_type": "code",
   "execution_count": 54,
   "id": "460f87f9-a709-44f5-8579-b9e52e9152b4",
   "metadata": {},
   "outputs": [],
   "source": [
    "# Use pickle to store the model\n",
    "pickle.dump( grid, open( \"mini-project-IV.p\", \"wb\" ) )"
   ]
  },
  {
   "cell_type": "code",
   "execution_count": 55,
   "id": "c385c16e-adbe-48d7-ab31-1cff42613cc7",
   "metadata": {},
   "outputs": [
    {
     "data": {
      "text/html": [
       "<div>\n",
       "<style scoped>\n",
       "    .dataframe tbody tr th:only-of-type {\n",
       "        vertical-align: middle;\n",
       "    }\n",
       "\n",
       "    .dataframe tbody tr th {\n",
       "        vertical-align: top;\n",
       "    }\n",
       "\n",
       "    .dataframe thead th {\n",
       "        text-align: right;\n",
       "    }\n",
       "</style>\n",
       "<table border=\"1\" class=\"dataframe\">\n",
       "  <thead>\n",
       "    <tr style=\"text-align: right;\">\n",
       "      <th></th>\n",
       "      <th>ApplicantIncome</th>\n",
       "      <th>CoapplicantIncome</th>\n",
       "      <th>LoanAmount</th>\n",
       "      <th>TotalIncome</th>\n",
       "      <th>Gender</th>\n",
       "      <th>Married</th>\n",
       "      <th>Dependents</th>\n",
       "      <th>Education</th>\n",
       "      <th>Self_Employed</th>\n",
       "      <th>Loan_Amount_Term</th>\n",
       "      <th>Credit_History</th>\n",
       "      <th>Property_Area</th>\n",
       "    </tr>\n",
       "  </thead>\n",
       "  <tbody>\n",
       "    <tr>\n",
       "      <th>542</th>\n",
       "      <td>3652.0</td>\n",
       "      <td>0.0</td>\n",
       "      <td>95.0</td>\n",
       "      <td>3652.0</td>\n",
       "      <td>Female</td>\n",
       "      <td>No</td>\n",
       "      <td>1</td>\n",
       "      <td>Graduate</td>\n",
       "      <td>No</td>\n",
       "      <td>30 year</td>\n",
       "      <td>Yes</td>\n",
       "      <td>Semiurban</td>\n",
       "    </tr>\n",
       "  </tbody>\n",
       "</table>\n",
       "</div>"
      ],
      "text/plain": [
       "     ApplicantIncome  CoapplicantIncome  LoanAmount  TotalIncome  Gender  \\\n",
       "542           3652.0                0.0        95.0       3652.0  Female   \n",
       "\n",
       "    Married Dependents Education Self_Employed Loan_Amount_Term  \\\n",
       "542      No          1  Graduate            No          30 year   \n",
       "\n",
       "    Credit_History Property_Area  \n",
       "542            Yes     Semiurban  "
      ]
     },
     "execution_count": 55,
     "metadata": {},
     "output_type": "execute_result"
    }
   ],
   "source": [
    "X_test.head(1)"
   ]
  },
  {
   "cell_type": "code",
   "execution_count": 56,
   "id": "1ab3bf31-655a-46f8-b1a0-c541265cbc2b",
   "metadata": {},
   "outputs": [],
   "source": [
    "json_data = {'ApplicantIncome': 3652.0,\n",
    " 'CoapplicantIncome': 0.0,\n",
    " 'LoanAmount': 95.0,\n",
    " 'TotalIncome': 3652.0,\n",
    " 'Gender': 'Female',\n",
    " 'Married': 'No',\n",
    " 'Dependents': '1',\n",
    " 'Education': 'Graduate',\n",
    " 'Self_Employed': 'Yes',\n",
    " 'Loan_Amount_Term': '30 year',\n",
    " 'Credit_History': 'Yes',\n",
    " 'Property_Area': 'Semiurban'}"
   ]
  },
  {
   "cell_type": "code",
   "execution_count": 57,
   "id": "86e62697-72f0-46b4-9b3f-7917bd7c633e",
   "metadata": {},
   "outputs": [],
   "source": [
    "import requests\n",
    "URL = \"http://ec2-52-55-157-34.compute-1.amazonaws.com:5300/scoring\"\n",
    "# sending get request and saving the response as response object \n",
    "r = requests.post(url = URL, json = json_data)"
   ]
  },
  {
   "cell_type": "code",
   "execution_count": null,
   "id": "f98e5bc9-056a-4379-abe7-99a6cc82f5f5",
   "metadata": {},
   "outputs": [],
   "source": []
  }
 ],
 "metadata": {
  "kernelspec": {
   "display_name": "Python 3 (ipykernel)",
   "language": "python",
   "name": "python3"
  },
  "language_info": {
   "codemirror_mode": {
    "name": "ipython",
    "version": 3
   },
   "file_extension": ".py",
   "mimetype": "text/x-python",
   "name": "python",
   "nbconvert_exporter": "python",
   "pygments_lexer": "ipython3",
   "version": "3.9.12"
  }
 },
 "nbformat": 4,
 "nbformat_minor": 5
}
