{
 "cells": [
  {
   "cell_type": "markdown",
   "id": "78c78bd5-2cc1-4c3f-a6de-70f07d89bb73",
   "metadata": {},
   "source": [
    "# Loan predictions\n",
    "## Problem Statement\n",
    "##### We want to automate the loan eligibility process based on customer details that are provided as online application forms are being filled. You can find the dataset here. These details concern the customer's Gender, Marital Status, Education, Number of Dependents, Income, Loan Amount, Credit History and other things as well.\n",
    "\n",
    "|Variable| Description|\n",
    "|--- |---|\n",
    "|Loan_ID| Unique Loan ID|\n",
    "|Gender| Male/ Female|\\n\",\n",
    "|Married| Applicant married (Y/N)|\\n\",\n",
    "|Dependents| Number of dependents|\\n\",\n",
    "|Education| Applicant Education (Graduate/ Under Graduate)|\\n\",\n",
    "|Self_Employed| Self employed (Y/N)|\\n\",\n",
    "|ApplicantIncome| Applicant income|\\n\",\n",
    "|CoapplicantIncome| Coapplicant income|\\n\",\n",
    "|LoanAmount| Loan amount in thousands|\\n\",\n",
    "|Loan_Amount_Term| Term of loan in months|\\n\",\n",
    "|Credit_History| credit history meets guidelines|\\n\",\n",
    "|Property_Area| Urban/ Semi Urban/ Rural|\\n\",\n",
    "|Loan_Status| Loan approved (Y/N)\\n\","
   ]
  },
  {
   "cell_type": "markdown",
   "id": "d04b7f15-baaa-463c-9145-d7d752a2be18",
   "metadata": {},
   "source": [
    "# Part 2"
   ]
  },
  {
   "cell_type": "markdown",
   "id": "1e934033-a7d5-4f3a-b0bc-bc2c4fbcdcea",
   "metadata": {
    "tags": []
   },
   "source": [
    "## 3. Data Cleaning\n",
    "\n",
    "- Impute missing values and treat outliers"
   ]
  },
  {
   "cell_type": "markdown",
   "id": "8808d2a9-26e7-4fcc-990c-6b704565a8d1",
   "metadata": {
    "tags": []
   },
   "source": [
    "#### Missing Value imputation strategy for numeric variables:\n",
    "\n",
    "1. Loan Amount will have it's null values replaced by the mean loan amount given out.\n",
    "2. Loan Amount Term will have it's null values replaced by the mode (360 months)"
   ]
  },
  {
   "cell_type": "code",
   "execution_count": 1117,
   "id": "0615926e-89d5-45b5-9f2b-02df5e11cfb2",
   "metadata": {},
   "outputs": [],
   "source": [
    "%store -r df\n",
    "%store -r df_num\n",
    "%store -r df_cat"
   ]
  },
  {
   "cell_type": "code",
   "execution_count": 1118,
   "id": "35827c4e-6f2b-444a-9e0e-cdc923485ae2",
   "metadata": {},
   "outputs": [],
   "source": [
    "# Replace null values with the mean\n",
    "df_num['LoanAmount'] = df_num['LoanAmount'].fillna(df_num['LoanAmount'].mean())"
   ]
  },
  {
   "cell_type": "code",
   "execution_count": 1119,
   "id": "63d04b6c-c022-48ea-9511-c7e9528c4214",
   "metadata": {},
   "outputs": [],
   "source": [
    "# Replace null values with the mode\n",
    "df_cat['Loan_Amount_Term'] = df_cat['Loan_Amount_Term'].fillna(df_cat['Loan_Amount_Term'].mode()[0])"
   ]
  },
  {
   "cell_type": "code",
   "execution_count": 1120,
   "id": "351d01a0-e8b1-4ce3-a0d5-986a8e82f212",
   "metadata": {},
   "outputs": [
    {
     "data": {
      "text/plain": [
       "ApplicantIncome      0\n",
       "CoapplicantIncome    0\n",
       "LoanAmount           0\n",
       "dtype: int64"
      ]
     },
     "execution_count": 1120,
     "metadata": {},
     "output_type": "execute_result"
    }
   ],
   "source": [
    "# Check for null values\n",
    "df_num.isnull().sum()"
   ]
  },
  {
   "cell_type": "markdown",
   "id": "3f396df2-77f2-48bc-b1b0-a110b575f1b2",
   "metadata": {},
   "source": [
    "##### For categorical variables with over 5% of their data missing (Credit_History and Self_Employed), randomly impute their values based on the frequency of their observations in the original dataset.\n",
    "\n",
    "##### For categorical variables with less than 5% of their data missing, dropna rows."
   ]
  },
  {
   "cell_type": "code",
   "execution_count": 1121,
   "id": "7df472f6-7b4a-4f88-be3f-c1ef84f03a5c",
   "metadata": {},
   "outputs": [
    {
     "data": {
      "text/plain": [
       "Gender              13\n",
       "Married              3\n",
       "Dependents          15\n",
       "Education            0\n",
       "Self_Employed       32\n",
       "Loan_Amount_Term     0\n",
       "Credit_History      50\n",
       "Property_Area        0\n",
       "dtype: int64"
      ]
     },
     "execution_count": 1121,
     "metadata": {},
     "output_type": "execute_result"
    }
   ],
   "source": [
    "df_cat.isnull().sum()"
   ]
  },
  {
   "cell_type": "code",
   "execution_count": 1122,
   "id": "2c93860e-ebb0-4cd7-904e-44dafed22ce2",
   "metadata": {},
   "outputs": [
    {
     "data": {
      "text/html": [
       "<div>\n",
       "<style scoped>\n",
       "    .dataframe tbody tr th:only-of-type {\n",
       "        vertical-align: middle;\n",
       "    }\n",
       "\n",
       "    .dataframe tbody tr th {\n",
       "        vertical-align: top;\n",
       "    }\n",
       "\n",
       "    .dataframe thead th {\n",
       "        text-align: right;\n",
       "    }\n",
       "</style>\n",
       "<table border=\"1\" class=\"dataframe\">\n",
       "  <thead>\n",
       "    <tr style=\"text-align: right;\">\n",
       "      <th></th>\n",
       "      <th>Gender</th>\n",
       "      <th>Married</th>\n",
       "      <th>Dependents</th>\n",
       "      <th>Education</th>\n",
       "      <th>Self_Employed</th>\n",
       "      <th>Loan_Amount_Term</th>\n",
       "      <th>Credit_History</th>\n",
       "      <th>Property_Area</th>\n",
       "    </tr>\n",
       "  </thead>\n",
       "  <tbody>\n",
       "    <tr>\n",
       "      <th>16</th>\n",
       "      <td>Male</td>\n",
       "      <td>No</td>\n",
       "      <td>1</td>\n",
       "      <td>Not Graduate</td>\n",
       "      <td>No</td>\n",
       "      <td>20 year</td>\n",
       "      <td>NaN</td>\n",
       "      <td>Urban</td>\n",
       "    </tr>\n",
       "    <tr>\n",
       "      <th>24</th>\n",
       "      <td>Male</td>\n",
       "      <td>Yes</td>\n",
       "      <td>1</td>\n",
       "      <td>Graduate</td>\n",
       "      <td>NaN</td>\n",
       "      <td>30 year</td>\n",
       "      <td>NaN</td>\n",
       "      <td>Semiurban</td>\n",
       "    </tr>\n",
       "    <tr>\n",
       "      <th>30</th>\n",
       "      <td>Male</td>\n",
       "      <td>Yes</td>\n",
       "      <td>1</td>\n",
       "      <td>Graduate</td>\n",
       "      <td>NaN</td>\n",
       "      <td>30 year</td>\n",
       "      <td>NaN</td>\n",
       "      <td>Urban</td>\n",
       "    </tr>\n",
       "    <tr>\n",
       "      <th>42</th>\n",
       "      <td>Male</td>\n",
       "      <td>Yes</td>\n",
       "      <td>0</td>\n",
       "      <td>Graduate</td>\n",
       "      <td>No</td>\n",
       "      <td>30 year</td>\n",
       "      <td>NaN</td>\n",
       "      <td>Urban</td>\n",
       "    </tr>\n",
       "    <tr>\n",
       "      <th>79</th>\n",
       "      <td>Male</td>\n",
       "      <td>Yes</td>\n",
       "      <td>3+</td>\n",
       "      <td>Not Graduate</td>\n",
       "      <td>Yes</td>\n",
       "      <td>30 year</td>\n",
       "      <td>NaN</td>\n",
       "      <td>Semiurban</td>\n",
       "    </tr>\n",
       "  </tbody>\n",
       "</table>\n",
       "</div>"
      ],
      "text/plain": [
       "   Gender Married Dependents     Education Self_Employed Loan_Amount_Term  \\\n",
       "16   Male      No          1  Not Graduate            No          20 year   \n",
       "24   Male     Yes          1      Graduate           NaN          30 year   \n",
       "30   Male     Yes          1      Graduate           NaN          30 year   \n",
       "42   Male     Yes          0      Graduate            No          30 year   \n",
       "79   Male     Yes         3+  Not Graduate           Yes          30 year   \n",
       "\n",
       "   Credit_History Property_Area  \n",
       "16            NaN         Urban  \n",
       "24            NaN     Semiurban  \n",
       "30            NaN         Urban  \n",
       "42            NaN         Urban  \n",
       "79            NaN     Semiurban  "
      ]
     },
     "execution_count": 1122,
     "metadata": {},
     "output_type": "execute_result"
    }
   ],
   "source": [
    "# Create a dataframe with all the rows with missing values\n",
    "nan_rows = df_cat[df_cat.isna().any(axis=1)]\n",
    "\n",
    "# Create a dataframe with only the missing rows corresponding to missing credit history data\n",
    "nullCredit = nan_rows[nan_rows['Credit_History'].isna() == True]\n",
    "nullCredit.head()"
   ]
  },
  {
   "cell_type": "code",
   "execution_count": 1124,
   "id": "7be2e259-ae15-4bbd-81ca-d40bd6397668",
   "metadata": {},
   "outputs": [
    {
     "name": "stderr",
     "output_type": "stream",
     "text": [
      "/var/folders/cl/dg9768bj6ys0prn_4p_bbftw0000gn/T/ipykernel_11317/3590025876.py:5: SettingWithCopyWarning: \n",
      "A value is trying to be set on a copy of a slice from a DataFrame.\n",
      "Try using .loc[row_indexer,col_indexer] = value instead\n",
      "\n",
      "See the caveats in the documentation: https://pandas.pydata.org/pandas-docs/stable/user_guide/indexing.html#returning-a-view-versus-a-copy\n",
      "  nullCredit['Credit_History'] = nullCredit['Credit_History'].sample(frac=0.84).replace({np.nan: 'Yes'})\n"
     ]
    }
   ],
   "source": [
    "# Replace a random sample of NaN values with Yes, with the fraction reflecting\n",
    "# the frequency of which people who applied had a history of credit scores from the\n",
    "# findings above.\n",
    "\n",
    "nullCredit['Credit_History'] = nullCredit['Credit_History'].sample(frac=0.84).replace({np.nan: 'Yes'})"
   ]
  },
  {
   "cell_type": "code",
   "execution_count": 1125,
   "id": "85385916-bdda-4d8d-99ba-384a65898c6f",
   "metadata": {},
   "outputs": [
    {
     "name": "stderr",
     "output_type": "stream",
     "text": [
      "/var/folders/cl/dg9768bj6ys0prn_4p_bbftw0000gn/T/ipykernel_11317/427927544.py:3: SettingWithCopyWarning: \n",
      "A value is trying to be set on a copy of a slice from a DataFrame.\n",
      "Try using .loc[row_indexer,col_indexer] = value instead\n",
      "\n",
      "See the caveats in the documentation: https://pandas.pydata.org/pandas-docs/stable/user_guide/indexing.html#returning-a-view-versus-a-copy\n",
      "  nullCredit['Credit_History'] = nullCredit['Credit_History'].replace({np.nan: 'No'})\n"
     ]
    }
   ],
   "source": [
    "# Replace the rest of the missing null values with No.\n",
    "\n",
    "nullCredit['Credit_History'] = nullCredit['Credit_History'].replace({np.nan: 'No'})"
   ]
  },
  {
   "cell_type": "code",
   "execution_count": 1126,
   "id": "59d9aa1b-7dd2-453e-a18f-0c66d5fe2be9",
   "metadata": {},
   "outputs": [
    {
     "data": {
      "text/plain": [
       "0"
      ]
     },
     "execution_count": 1126,
     "metadata": {},
     "output_type": "execute_result"
    }
   ],
   "source": [
    "# Verify the missing values were imputed correctly\n",
    "nullCredit['Credit_History'].isnull().sum()"
   ]
  },
  {
   "cell_type": "code",
   "execution_count": 1127,
   "id": "9b363fed-bcee-4ecd-98dc-dd2c77f070c3",
   "metadata": {},
   "outputs": [
    {
     "data": {
      "text/html": [
       "<div>\n",
       "<style scoped>\n",
       "    .dataframe tbody tr th:only-of-type {\n",
       "        vertical-align: middle;\n",
       "    }\n",
       "\n",
       "    .dataframe tbody tr th {\n",
       "        vertical-align: top;\n",
       "    }\n",
       "\n",
       "    .dataframe thead th {\n",
       "        text-align: right;\n",
       "    }\n",
       "</style>\n",
       "<table border=\"1\" class=\"dataframe\">\n",
       "  <thead>\n",
       "    <tr style=\"text-align: right;\">\n",
       "      <th></th>\n",
       "      <th>Gender</th>\n",
       "      <th>Married</th>\n",
       "      <th>Dependents</th>\n",
       "      <th>Education</th>\n",
       "      <th>Self_Employed</th>\n",
       "      <th>Loan_Amount_Term</th>\n",
       "      <th>Credit_History</th>\n",
       "      <th>Property_Area</th>\n",
       "    </tr>\n",
       "  </thead>\n",
       "  <tbody>\n",
       "    <tr>\n",
       "      <th>16</th>\n",
       "      <td>Male</td>\n",
       "      <td>No</td>\n",
       "      <td>1</td>\n",
       "      <td>Not Graduate</td>\n",
       "      <td>No</td>\n",
       "      <td>20 year</td>\n",
       "      <td>No</td>\n",
       "      <td>Urban</td>\n",
       "    </tr>\n",
       "    <tr>\n",
       "      <th>24</th>\n",
       "      <td>Male</td>\n",
       "      <td>Yes</td>\n",
       "      <td>1</td>\n",
       "      <td>Graduate</td>\n",
       "      <td>NaN</td>\n",
       "      <td>30 year</td>\n",
       "      <td>Yes</td>\n",
       "      <td>Semiurban</td>\n",
       "    </tr>\n",
       "    <tr>\n",
       "      <th>30</th>\n",
       "      <td>Male</td>\n",
       "      <td>Yes</td>\n",
       "      <td>1</td>\n",
       "      <td>Graduate</td>\n",
       "      <td>NaN</td>\n",
       "      <td>30 year</td>\n",
       "      <td>No</td>\n",
       "      <td>Urban</td>\n",
       "    </tr>\n",
       "    <tr>\n",
       "      <th>42</th>\n",
       "      <td>Male</td>\n",
       "      <td>Yes</td>\n",
       "      <td>0</td>\n",
       "      <td>Graduate</td>\n",
       "      <td>No</td>\n",
       "      <td>30 year</td>\n",
       "      <td>No</td>\n",
       "      <td>Urban</td>\n",
       "    </tr>\n",
       "    <tr>\n",
       "      <th>79</th>\n",
       "      <td>Male</td>\n",
       "      <td>Yes</td>\n",
       "      <td>3+</td>\n",
       "      <td>Not Graduate</td>\n",
       "      <td>Yes</td>\n",
       "      <td>30 year</td>\n",
       "      <td>Yes</td>\n",
       "      <td>Semiurban</td>\n",
       "    </tr>\n",
       "    <tr>\n",
       "      <th>83</th>\n",
       "      <td>Male</td>\n",
       "      <td>Yes</td>\n",
       "      <td>0</td>\n",
       "      <td>Graduate</td>\n",
       "      <td>No</td>\n",
       "      <td>30 year</td>\n",
       "      <td>Yes</td>\n",
       "      <td>Semiurban</td>\n",
       "    </tr>\n",
       "    <tr>\n",
       "      <th>86</th>\n",
       "      <td>Male</td>\n",
       "      <td>Yes</td>\n",
       "      <td>2</td>\n",
       "      <td>Not Graduate</td>\n",
       "      <td>No</td>\n",
       "      <td>30 year</td>\n",
       "      <td>Yes</td>\n",
       "      <td>Semiurban</td>\n",
       "    </tr>\n",
       "    <tr>\n",
       "      <th>95</th>\n",
       "      <td>Male</td>\n",
       "      <td>No</td>\n",
       "      <td>0</td>\n",
       "      <td>Graduate</td>\n",
       "      <td>NaN</td>\n",
       "      <td>30 year</td>\n",
       "      <td>Yes</td>\n",
       "      <td>Urban</td>\n",
       "    </tr>\n",
       "    <tr>\n",
       "      <th>117</th>\n",
       "      <td>Male</td>\n",
       "      <td>Yes</td>\n",
       "      <td>1</td>\n",
       "      <td>Graduate</td>\n",
       "      <td>No</td>\n",
       "      <td>30 year</td>\n",
       "      <td>Yes</td>\n",
       "      <td>Urban</td>\n",
       "    </tr>\n",
       "    <tr>\n",
       "      <th>125</th>\n",
       "      <td>Female</td>\n",
       "      <td>No</td>\n",
       "      <td>0</td>\n",
       "      <td>Graduate</td>\n",
       "      <td>No</td>\n",
       "      <td>30 year</td>\n",
       "      <td>Yes</td>\n",
       "      <td>Rural</td>\n",
       "    </tr>\n",
       "  </tbody>\n",
       "</table>\n",
       "</div>"
      ],
      "text/plain": [
       "     Gender Married Dependents     Education Self_Employed Loan_Amount_Term  \\\n",
       "16     Male      No          1  Not Graduate            No          20 year   \n",
       "24     Male     Yes          1      Graduate           NaN          30 year   \n",
       "30     Male     Yes          1      Graduate           NaN          30 year   \n",
       "42     Male     Yes          0      Graduate            No          30 year   \n",
       "79     Male     Yes         3+  Not Graduate           Yes          30 year   \n",
       "83     Male     Yes          0      Graduate            No          30 year   \n",
       "86     Male     Yes          2  Not Graduate            No          30 year   \n",
       "95     Male      No          0      Graduate           NaN          30 year   \n",
       "117    Male     Yes          1      Graduate            No          30 year   \n",
       "125  Female      No          0      Graduate            No          30 year   \n",
       "\n",
       "    Credit_History Property_Area  \n",
       "16              No         Urban  \n",
       "24             Yes     Semiurban  \n",
       "30              No         Urban  \n",
       "42              No         Urban  \n",
       "79             Yes     Semiurban  \n",
       "83             Yes     Semiurban  \n",
       "86             Yes     Semiurban  \n",
       "95             Yes         Urban  \n",
       "117            Yes         Urban  \n",
       "125            Yes         Rural  "
      ]
     },
     "execution_count": 1127,
     "metadata": {},
     "output_type": "execute_result"
    }
   ],
   "source": [
    "nullCredit.head(10)"
   ]
  },
  {
   "cell_type": "code",
   "execution_count": 1128,
   "id": "71253b29-72bb-4e20-9a4e-c30c442901c3",
   "metadata": {},
   "outputs": [
    {
     "data": {
      "text/html": [
       "<div>\n",
       "<style scoped>\n",
       "    .dataframe tbody tr th:only-of-type {\n",
       "        vertical-align: middle;\n",
       "    }\n",
       "\n",
       "    .dataframe tbody tr th {\n",
       "        vertical-align: top;\n",
       "    }\n",
       "\n",
       "    .dataframe thead th {\n",
       "        text-align: right;\n",
       "    }\n",
       "</style>\n",
       "<table border=\"1\" class=\"dataframe\">\n",
       "  <thead>\n",
       "    <tr style=\"text-align: right;\">\n",
       "      <th></th>\n",
       "      <th>Gender</th>\n",
       "      <th>Married</th>\n",
       "      <th>Dependents</th>\n",
       "      <th>Education</th>\n",
       "      <th>Self_Employed</th>\n",
       "      <th>Loan_Amount_Term</th>\n",
       "      <th>Credit_History</th>\n",
       "      <th>Property_Area</th>\n",
       "    </tr>\n",
       "  </thead>\n",
       "  <tbody>\n",
       "    <tr>\n",
       "      <th>11</th>\n",
       "      <td>Male</td>\n",
       "      <td>Yes</td>\n",
       "      <td>2</td>\n",
       "      <td>Graduate</td>\n",
       "      <td>NaN</td>\n",
       "      <td>30 year</td>\n",
       "      <td>Yes</td>\n",
       "      <td>Urban</td>\n",
       "    </tr>\n",
       "    <tr>\n",
       "      <th>19</th>\n",
       "      <td>Male</td>\n",
       "      <td>Yes</td>\n",
       "      <td>0</td>\n",
       "      <td>Graduate</td>\n",
       "      <td>NaN</td>\n",
       "      <td>30 year</td>\n",
       "      <td>Yes</td>\n",
       "      <td>Urban</td>\n",
       "    </tr>\n",
       "    <tr>\n",
       "      <th>24</th>\n",
       "      <td>Male</td>\n",
       "      <td>Yes</td>\n",
       "      <td>1</td>\n",
       "      <td>Graduate</td>\n",
       "      <td>NaN</td>\n",
       "      <td>30 year</td>\n",
       "      <td>NaN</td>\n",
       "      <td>Semiurban</td>\n",
       "    </tr>\n",
       "    <tr>\n",
       "      <th>29</th>\n",
       "      <td>Female</td>\n",
       "      <td>No</td>\n",
       "      <td>2</td>\n",
       "      <td>Graduate</td>\n",
       "      <td>NaN</td>\n",
       "      <td>30 year</td>\n",
       "      <td>Yes</td>\n",
       "      <td>Semiurban</td>\n",
       "    </tr>\n",
       "    <tr>\n",
       "      <th>30</th>\n",
       "      <td>Male</td>\n",
       "      <td>Yes</td>\n",
       "      <td>1</td>\n",
       "      <td>Graduate</td>\n",
       "      <td>NaN</td>\n",
       "      <td>30 year</td>\n",
       "      <td>NaN</td>\n",
       "      <td>Urban</td>\n",
       "    </tr>\n",
       "  </tbody>\n",
       "</table>\n",
       "</div>"
      ],
      "text/plain": [
       "    Gender Married Dependents Education Self_Employed Loan_Amount_Term  \\\n",
       "11    Male     Yes          2  Graduate           NaN          30 year   \n",
       "19    Male     Yes          0  Graduate           NaN          30 year   \n",
       "24    Male     Yes          1  Graduate           NaN          30 year   \n",
       "29  Female      No          2  Graduate           NaN          30 year   \n",
       "30    Male     Yes          1  Graduate           NaN          30 year   \n",
       "\n",
       "   Credit_History Property_Area  \n",
       "11            Yes         Urban  \n",
       "19            Yes         Urban  \n",
       "24            NaN     Semiurban  \n",
       "29            Yes     Semiurban  \n",
       "30            NaN         Urban  "
      ]
     },
     "execution_count": 1128,
     "metadata": {},
     "output_type": "execute_result"
    }
   ],
   "source": [
    "# Create a dataframe with only the missing rows corresponding to missing Self_employment data\n",
    "nullEmployed = nan_rows[nan_rows['Self_Employed'].isna() == True]\n",
    "nullEmployed.head()"
   ]
  },
  {
   "cell_type": "code",
   "execution_count": 1129,
   "id": "20f4e446-843f-44e1-88e6-c17998facf9d",
   "metadata": {},
   "outputs": [
    {
     "name": "stderr",
     "output_type": "stream",
     "text": [
      "/var/folders/cl/dg9768bj6ys0prn_4p_bbftw0000gn/T/ipykernel_11317/4176826343.py:4: SettingWithCopyWarning: \n",
      "A value is trying to be set on a copy of a slice from a DataFrame.\n",
      "Try using .loc[row_indexer,col_indexer] = value instead\n",
      "\n",
      "See the caveats in the documentation: https://pandas.pydata.org/pandas-docs/stable/user_guide/indexing.html#returning-a-view-versus-a-copy\n",
      "  nullEmployed['Self_Employed'] = nullEmployed['Self_Employed'].sample(frac=0.14).replace({np.nan: 'Yes'})\n"
     ]
    }
   ],
   "source": [
    "# Randomly select columns to impute 'Yes' that correspond to the frequency distribution\n",
    "# of Yesses in the overall dataframe from above.\n",
    "\n",
    "nullEmployed['Self_Employed'] = nullEmployed['Self_Employed'].sample(frac=0.14).replace({np.nan: 'Yes'})"
   ]
  },
  {
   "cell_type": "code",
   "execution_count": 1130,
   "id": "a979f1e6-3061-4800-9b3d-6fc8a274f322",
   "metadata": {},
   "outputs": [
    {
     "name": "stderr",
     "output_type": "stream",
     "text": [
      "/var/folders/cl/dg9768bj6ys0prn_4p_bbftw0000gn/T/ipykernel_11317/3943461361.py:3: SettingWithCopyWarning: \n",
      "A value is trying to be set on a copy of a slice from a DataFrame.\n",
      "Try using .loc[row_indexer,col_indexer] = value instead\n",
      "\n",
      "See the caveats in the documentation: https://pandas.pydata.org/pandas-docs/stable/user_guide/indexing.html#returning-a-view-versus-a-copy\n",
      "  nullEmployed['Self_Employed'] = nullEmployed['Self_Employed'].replace({np.nan: 'No'})\n"
     ]
    },
    {
     "data": {
      "text/html": [
       "<div>\n",
       "<style scoped>\n",
       "    .dataframe tbody tr th:only-of-type {\n",
       "        vertical-align: middle;\n",
       "    }\n",
       "\n",
       "    .dataframe tbody tr th {\n",
       "        vertical-align: top;\n",
       "    }\n",
       "\n",
       "    .dataframe thead th {\n",
       "        text-align: right;\n",
       "    }\n",
       "</style>\n",
       "<table border=\"1\" class=\"dataframe\">\n",
       "  <thead>\n",
       "    <tr style=\"text-align: right;\">\n",
       "      <th></th>\n",
       "      <th>Gender</th>\n",
       "      <th>Married</th>\n",
       "      <th>Dependents</th>\n",
       "      <th>Education</th>\n",
       "      <th>Self_Employed</th>\n",
       "      <th>Loan_Amount_Term</th>\n",
       "      <th>Credit_History</th>\n",
       "      <th>Property_Area</th>\n",
       "    </tr>\n",
       "  </thead>\n",
       "  <tbody>\n",
       "    <tr>\n",
       "      <th>11</th>\n",
       "      <td>Male</td>\n",
       "      <td>Yes</td>\n",
       "      <td>2</td>\n",
       "      <td>Graduate</td>\n",
       "      <td>No</td>\n",
       "      <td>30 year</td>\n",
       "      <td>Yes</td>\n",
       "      <td>Urban</td>\n",
       "    </tr>\n",
       "    <tr>\n",
       "      <th>19</th>\n",
       "      <td>Male</td>\n",
       "      <td>Yes</td>\n",
       "      <td>0</td>\n",
       "      <td>Graduate</td>\n",
       "      <td>No</td>\n",
       "      <td>30 year</td>\n",
       "      <td>Yes</td>\n",
       "      <td>Urban</td>\n",
       "    </tr>\n",
       "    <tr>\n",
       "      <th>24</th>\n",
       "      <td>Male</td>\n",
       "      <td>Yes</td>\n",
       "      <td>1</td>\n",
       "      <td>Graduate</td>\n",
       "      <td>No</td>\n",
       "      <td>30 year</td>\n",
       "      <td>NaN</td>\n",
       "      <td>Semiurban</td>\n",
       "    </tr>\n",
       "    <tr>\n",
       "      <th>29</th>\n",
       "      <td>Female</td>\n",
       "      <td>No</td>\n",
       "      <td>2</td>\n",
       "      <td>Graduate</td>\n",
       "      <td>No</td>\n",
       "      <td>30 year</td>\n",
       "      <td>Yes</td>\n",
       "      <td>Semiurban</td>\n",
       "    </tr>\n",
       "    <tr>\n",
       "      <th>30</th>\n",
       "      <td>Male</td>\n",
       "      <td>Yes</td>\n",
       "      <td>1</td>\n",
       "      <td>Graduate</td>\n",
       "      <td>No</td>\n",
       "      <td>30 year</td>\n",
       "      <td>NaN</td>\n",
       "      <td>Urban</td>\n",
       "    </tr>\n",
       "    <tr>\n",
       "      <th>95</th>\n",
       "      <td>Male</td>\n",
       "      <td>No</td>\n",
       "      <td>0</td>\n",
       "      <td>Graduate</td>\n",
       "      <td>No</td>\n",
       "      <td>30 year</td>\n",
       "      <td>NaN</td>\n",
       "      <td>Urban</td>\n",
       "    </tr>\n",
       "    <tr>\n",
       "      <th>107</th>\n",
       "      <td>Male</td>\n",
       "      <td>No</td>\n",
       "      <td>0</td>\n",
       "      <td>Not Graduate</td>\n",
       "      <td>No</td>\n",
       "      <td>30 year</td>\n",
       "      <td>Yes</td>\n",
       "      <td>Rural</td>\n",
       "    </tr>\n",
       "    <tr>\n",
       "      <th>111</th>\n",
       "      <td>Female</td>\n",
       "      <td>Yes</td>\n",
       "      <td>0</td>\n",
       "      <td>Graduate</td>\n",
       "      <td>No</td>\n",
       "      <td>30 year</td>\n",
       "      <td>Yes</td>\n",
       "      <td>Semiurban</td>\n",
       "    </tr>\n",
       "    <tr>\n",
       "      <th>114</th>\n",
       "      <td>Male</td>\n",
       "      <td>No</td>\n",
       "      <td>0</td>\n",
       "      <td>Graduate</td>\n",
       "      <td>No</td>\n",
       "      <td>30 year</td>\n",
       "      <td>Yes</td>\n",
       "      <td>Semiurban</td>\n",
       "    </tr>\n",
       "    <tr>\n",
       "      <th>158</th>\n",
       "      <td>Male</td>\n",
       "      <td>No</td>\n",
       "      <td>0</td>\n",
       "      <td>Graduate</td>\n",
       "      <td>No</td>\n",
       "      <td>30 year</td>\n",
       "      <td>Yes</td>\n",
       "      <td>Rural</td>\n",
       "    </tr>\n",
       "  </tbody>\n",
       "</table>\n",
       "</div>"
      ],
      "text/plain": [
       "     Gender Married Dependents     Education Self_Employed Loan_Amount_Term  \\\n",
       "11     Male     Yes          2      Graduate            No          30 year   \n",
       "19     Male     Yes          0      Graduate            No          30 year   \n",
       "24     Male     Yes          1      Graduate            No          30 year   \n",
       "29   Female      No          2      Graduate            No          30 year   \n",
       "30     Male     Yes          1      Graduate            No          30 year   \n",
       "95     Male      No          0      Graduate            No          30 year   \n",
       "107    Male      No          0  Not Graduate            No          30 year   \n",
       "111  Female     Yes          0      Graduate            No          30 year   \n",
       "114    Male      No          0      Graduate            No          30 year   \n",
       "158    Male      No          0      Graduate            No          30 year   \n",
       "\n",
       "    Credit_History Property_Area  \n",
       "11             Yes         Urban  \n",
       "19             Yes         Urban  \n",
       "24             NaN     Semiurban  \n",
       "29             Yes     Semiurban  \n",
       "30             NaN         Urban  \n",
       "95             NaN         Urban  \n",
       "107            Yes         Rural  \n",
       "111            Yes     Semiurban  \n",
       "114            Yes     Semiurban  \n",
       "158            Yes         Rural  "
      ]
     },
     "execution_count": 1130,
     "metadata": {},
     "output_type": "execute_result"
    }
   ],
   "source": [
    "# Replace the remaining null values with 'No'.\n",
    "\n",
    "nullEmployed['Self_Employed'] = nullEmployed['Self_Employed'].replace({np.nan: 'No'})\n",
    "nullEmployed.head(10)"
   ]
  },
  {
   "cell_type": "code",
   "execution_count": 1131,
   "id": "9ddfb59d-e6f1-4d64-b1ec-de67d49b5c75",
   "metadata": {},
   "outputs": [],
   "source": [
    "# Impute missing values from the original dataframe with the randomly filled Yesses' and No's\n",
    "# from these constructed dataframes.\n",
    "\n",
    "df_cat['Credit_History'] = df_cat['Credit_History'].fillna(nullCredit['Credit_History'])"
   ]
  },
  {
   "cell_type": "code",
   "execution_count": 1132,
   "id": "a9a0384b-bd26-4d35-9a64-77986100b9de",
   "metadata": {},
   "outputs": [],
   "source": [
    "# Repeat the process with Self Employment missing values.\n",
    "\n",
    "df_cat['Self_Employed'] = df_cat['Self_Employed'].fillna(nullEmployed['Self_Employed'])"
   ]
  },
  {
   "cell_type": "markdown",
   "id": "fd20aa69-554b-4959-8272-e4dcbf0475ed",
   "metadata": {},
   "source": [
    "##### Drop remaining null value rows from category dataframe."
   ]
  },
  {
   "cell_type": "code",
   "execution_count": 1133,
   "id": "20707450-f861-4843-a76a-ce5793bb3561",
   "metadata": {},
   "outputs": [
    {
     "data": {
      "text/html": [
       "<div>\n",
       "<style scoped>\n",
       "    .dataframe tbody tr th:only-of-type {\n",
       "        vertical-align: middle;\n",
       "    }\n",
       "\n",
       "    .dataframe tbody tr th {\n",
       "        vertical-align: top;\n",
       "    }\n",
       "\n",
       "    .dataframe thead th {\n",
       "        text-align: right;\n",
       "    }\n",
       "</style>\n",
       "<table border=\"1\" class=\"dataframe\">\n",
       "  <thead>\n",
       "    <tr style=\"text-align: right;\">\n",
       "      <th></th>\n",
       "      <th>Gender</th>\n",
       "      <th>Married</th>\n",
       "      <th>Dependents</th>\n",
       "      <th>Education</th>\n",
       "      <th>Self_Employed</th>\n",
       "      <th>Loan_Amount_Term</th>\n",
       "      <th>Credit_History</th>\n",
       "      <th>Property_Area</th>\n",
       "    </tr>\n",
       "  </thead>\n",
       "  <tbody>\n",
       "    <tr>\n",
       "      <th>0</th>\n",
       "      <td>Male</td>\n",
       "      <td>No</td>\n",
       "      <td>0</td>\n",
       "      <td>Graduate</td>\n",
       "      <td>No</td>\n",
       "      <td>30 year</td>\n",
       "      <td>Yes</td>\n",
       "      <td>Urban</td>\n",
       "    </tr>\n",
       "    <tr>\n",
       "      <th>1</th>\n",
       "      <td>Male</td>\n",
       "      <td>Yes</td>\n",
       "      <td>1</td>\n",
       "      <td>Graduate</td>\n",
       "      <td>No</td>\n",
       "      <td>30 year</td>\n",
       "      <td>Yes</td>\n",
       "      <td>Rural</td>\n",
       "    </tr>\n",
       "    <tr>\n",
       "      <th>2</th>\n",
       "      <td>Male</td>\n",
       "      <td>Yes</td>\n",
       "      <td>0</td>\n",
       "      <td>Graduate</td>\n",
       "      <td>Yes</td>\n",
       "      <td>30 year</td>\n",
       "      <td>Yes</td>\n",
       "      <td>Urban</td>\n",
       "    </tr>\n",
       "    <tr>\n",
       "      <th>3</th>\n",
       "      <td>Male</td>\n",
       "      <td>Yes</td>\n",
       "      <td>0</td>\n",
       "      <td>Not Graduate</td>\n",
       "      <td>No</td>\n",
       "      <td>30 year</td>\n",
       "      <td>Yes</td>\n",
       "      <td>Urban</td>\n",
       "    </tr>\n",
       "    <tr>\n",
       "      <th>4</th>\n",
       "      <td>Male</td>\n",
       "      <td>No</td>\n",
       "      <td>0</td>\n",
       "      <td>Graduate</td>\n",
       "      <td>No</td>\n",
       "      <td>30 year</td>\n",
       "      <td>Yes</td>\n",
       "      <td>Urban</td>\n",
       "    </tr>\n",
       "    <tr>\n",
       "      <th>...</th>\n",
       "      <td>...</td>\n",
       "      <td>...</td>\n",
       "      <td>...</td>\n",
       "      <td>...</td>\n",
       "      <td>...</td>\n",
       "      <td>...</td>\n",
       "      <td>...</td>\n",
       "      <td>...</td>\n",
       "    </tr>\n",
       "    <tr>\n",
       "      <th>609</th>\n",
       "      <td>Female</td>\n",
       "      <td>No</td>\n",
       "      <td>0</td>\n",
       "      <td>Graduate</td>\n",
       "      <td>No</td>\n",
       "      <td>30 year</td>\n",
       "      <td>Yes</td>\n",
       "      <td>Rural</td>\n",
       "    </tr>\n",
       "    <tr>\n",
       "      <th>610</th>\n",
       "      <td>Male</td>\n",
       "      <td>Yes</td>\n",
       "      <td>3+</td>\n",
       "      <td>Graduate</td>\n",
       "      <td>No</td>\n",
       "      <td>15 year</td>\n",
       "      <td>Yes</td>\n",
       "      <td>Rural</td>\n",
       "    </tr>\n",
       "    <tr>\n",
       "      <th>611</th>\n",
       "      <td>Male</td>\n",
       "      <td>Yes</td>\n",
       "      <td>1</td>\n",
       "      <td>Graduate</td>\n",
       "      <td>No</td>\n",
       "      <td>30 year</td>\n",
       "      <td>Yes</td>\n",
       "      <td>Urban</td>\n",
       "    </tr>\n",
       "    <tr>\n",
       "      <th>612</th>\n",
       "      <td>Male</td>\n",
       "      <td>Yes</td>\n",
       "      <td>2</td>\n",
       "      <td>Graduate</td>\n",
       "      <td>No</td>\n",
       "      <td>30 year</td>\n",
       "      <td>Yes</td>\n",
       "      <td>Urban</td>\n",
       "    </tr>\n",
       "    <tr>\n",
       "      <th>613</th>\n",
       "      <td>Female</td>\n",
       "      <td>No</td>\n",
       "      <td>0</td>\n",
       "      <td>Graduate</td>\n",
       "      <td>Yes</td>\n",
       "      <td>30 year</td>\n",
       "      <td>No</td>\n",
       "      <td>Semiurban</td>\n",
       "    </tr>\n",
       "  </tbody>\n",
       "</table>\n",
       "<p>614 rows × 8 columns</p>\n",
       "</div>"
      ],
      "text/plain": [
       "     Gender Married Dependents     Education Self_Employed Loan_Amount_Term  \\\n",
       "0      Male      No          0      Graduate            No          30 year   \n",
       "1      Male     Yes          1      Graduate            No          30 year   \n",
       "2      Male     Yes          0      Graduate           Yes          30 year   \n",
       "3      Male     Yes          0  Not Graduate            No          30 year   \n",
       "4      Male      No          0      Graduate            No          30 year   \n",
       "..      ...     ...        ...           ...           ...              ...   \n",
       "609  Female      No          0      Graduate            No          30 year   \n",
       "610    Male     Yes         3+      Graduate            No          15 year   \n",
       "611    Male     Yes          1      Graduate            No          30 year   \n",
       "612    Male     Yes          2      Graduate            No          30 year   \n",
       "613  Female      No          0      Graduate           Yes          30 year   \n",
       "\n",
       "    Credit_History Property_Area  \n",
       "0              Yes         Urban  \n",
       "1              Yes         Rural  \n",
       "2              Yes         Urban  \n",
       "3              Yes         Urban  \n",
       "4              Yes         Urban  \n",
       "..             ...           ...  \n",
       "609            Yes         Rural  \n",
       "610            Yes         Rural  \n",
       "611            Yes         Urban  \n",
       "612            Yes         Urban  \n",
       "613             No     Semiurban  \n",
       "\n",
       "[614 rows x 8 columns]"
      ]
     },
     "execution_count": 1133,
     "metadata": {},
     "output_type": "execute_result"
    }
   ],
   "source": [
    "df_cat"
   ]
  },
  {
   "cell_type": "code",
   "execution_count": 1134,
   "id": "6b019bb6-1821-4ebd-a99a-8695ef86556e",
   "metadata": {},
   "outputs": [
    {
     "data": {
      "text/plain": [
       "Gender              13\n",
       "Married              3\n",
       "Dependents          15\n",
       "Education            0\n",
       "Self_Employed        0\n",
       "Loan_Amount_Term     0\n",
       "Credit_History       0\n",
       "Property_Area        0\n",
       "dtype: int64"
      ]
     },
     "execution_count": 1134,
     "metadata": {},
     "output_type": "execute_result"
    }
   ],
   "source": [
    "# We will drop the null value rows from the missing data after concatenating the\n",
    "# categorical dataframe back with the numerical one.\n",
    "\n",
    "df_cat.isnull().sum()"
   ]
  },
  {
   "cell_type": "markdown",
   "id": "f2a25b7f-7eb4-4d27-8937-b8c6edc20b19",
   "metadata": {},
   "source": [
    "### Outlier Detection"
   ]
  },
  {
   "cell_type": "markdown",
   "id": "51314ba1-1c43-49b7-abda-6c917ba94198",
   "metadata": {},
   "source": [
    "#### Extreme values\n",
    "- Try a log transformation to get rid of the extreme values in LoanAmount. Plot the histogram before and after the transformation"
   ]
  },
  {
   "cell_type": "code",
   "execution_count": 1135,
   "id": "d1ad2f8e-074b-4404-91ec-281fcd8d436e",
   "metadata": {},
   "outputs": [
    {
     "data": {
      "text/html": [
       "<div>\n",
       "<style scoped>\n",
       "    .dataframe tbody tr th:only-of-type {\n",
       "        vertical-align: middle;\n",
       "    }\n",
       "\n",
       "    .dataframe tbody tr th {\n",
       "        vertical-align: top;\n",
       "    }\n",
       "\n",
       "    .dataframe thead th {\n",
       "        text-align: right;\n",
       "    }\n",
       "</style>\n",
       "<table border=\"1\" class=\"dataframe\">\n",
       "  <thead>\n",
       "    <tr style=\"text-align: right;\">\n",
       "      <th></th>\n",
       "      <th>ApplicantIncome</th>\n",
       "      <th>CoapplicantIncome</th>\n",
       "      <th>LoanAmount</th>\n",
       "    </tr>\n",
       "  </thead>\n",
       "  <tbody>\n",
       "    <tr>\n",
       "      <th>0</th>\n",
       "      <td>5849.0</td>\n",
       "      <td>0.0</td>\n",
       "      <td>146.412162</td>\n",
       "    </tr>\n",
       "    <tr>\n",
       "      <th>1</th>\n",
       "      <td>4583.0</td>\n",
       "      <td>1508.0</td>\n",
       "      <td>128.000000</td>\n",
       "    </tr>\n",
       "    <tr>\n",
       "      <th>2</th>\n",
       "      <td>3000.0</td>\n",
       "      <td>0.0</td>\n",
       "      <td>66.000000</td>\n",
       "    </tr>\n",
       "    <tr>\n",
       "      <th>3</th>\n",
       "      <td>2583.0</td>\n",
       "      <td>2358.0</td>\n",
       "      <td>120.000000</td>\n",
       "    </tr>\n",
       "    <tr>\n",
       "      <th>4</th>\n",
       "      <td>6000.0</td>\n",
       "      <td>0.0</td>\n",
       "      <td>141.000000</td>\n",
       "    </tr>\n",
       "  </tbody>\n",
       "</table>\n",
       "</div>"
      ],
      "text/plain": [
       "   ApplicantIncome  CoapplicantIncome  LoanAmount\n",
       "0           5849.0                0.0  146.412162\n",
       "1           4583.0             1508.0  128.000000\n",
       "2           3000.0                0.0   66.000000\n",
       "3           2583.0             2358.0  120.000000\n",
       "4           6000.0                0.0  141.000000"
      ]
     },
     "execution_count": 1135,
     "metadata": {},
     "output_type": "execute_result"
    }
   ],
   "source": [
    "df_num.head()"
   ]
  },
  {
   "cell_type": "code",
   "execution_count": 1141,
   "id": "83ac169b-1884-428e-8b34-fdcd9ea6aec4",
   "metadata": {},
   "outputs": [],
   "source": [
    "df_num['TotalIncome'] = df['ApplicantIncome'] + df['CoapplicantIncome']"
   ]
  },
  {
   "cell_type": "code",
   "execution_count": 1142,
   "id": "cbddf06f-fa69-48bc-b13e-7819998e9741",
   "metadata": {},
   "outputs": [
    {
     "name": "stderr",
     "output_type": "stream",
     "text": [
      "/Users/julianlavecchia/opt/anaconda3/lib/python3.9/site-packages/pandas/core/internals/blocks.py:402: RuntimeWarning: divide by zero encountered in log\n",
      "  result = func(self.values, **kwargs)\n"
     ]
    }
   ],
   "source": [
    "# Perform log transformation on Loan Amount\n",
    "\n",
    "df_num_log = np.log(df_num)"
   ]
  },
  {
   "cell_type": "code",
   "execution_count": 1143,
   "id": "f4701d8e-e055-46ee-95b3-373fa3fddc94",
   "metadata": {},
   "outputs": [
    {
     "data": {
      "image/png": "[encoded data removed]",
      "text/plain": [
       "<Figure size 1500x800 with 2 Axes>"
      ]
     },
     "metadata": {},
     "output_type": "display_data"
    }
   ],
   "source": [
    "sns.set(style='darkgrid')\n",
    "fig, axs = plt.subplots(1, 2, figsize=(15,8))\n",
    "\n",
    "sns.histplot(data=df_num, x=\"LoanAmount\", kde=True, color=\"pink\", ax = axs[0], bins=35)\n",
    "sns.histplot(data=df_num_log, x='LoanAmount', kde=True, color=\"green\", ax=axs[1], bins=50)\n",
    "\n",
    "fig.tight_layout()"
   ]
  },
  {
   "cell_type": "markdown",
   "id": "56b91225-3bc5-4e52-bc07-03646f63f002",
   "metadata": {},
   "source": [
    "- Combine both incomes as total income and take a log transformation of the same."
   ]
  },
  {
   "cell_type": "code",
   "execution_count": 1144,
   "id": "fd8d2ce5-18d0-4331-a54d-ba818ba1a04a",
   "metadata": {},
   "outputs": [
    {
     "data": {
      "image/png": "[encoded data removed]",
      "text/plain": [
       "<Figure size 1500x800 with 2 Axes>"
      ]
     },
     "metadata": {},
     "output_type": "display_data"
    }
   ],
   "source": [
    "sns.set(style='darkgrid')\n",
    "fig, axs = plt.subplots(1, 2, figsize=(15,8))\n",
    "\n",
    "sns.histplot(data=df_num, x=\"TotalIncome\", kde=True, color=\"purple\", ax = axs[0], bins=35)\n",
    "sns.histplot(data=df_num_log, x='TotalIncome', kde=True, color=\"orange\", ax=axs[1], bins=50)\n",
    "\n",
    "fig.tight_layout()"
   ]
  },
  {
   "cell_type": "markdown",
   "id": "a38ae06e-e3d0-4862-9c61-faad323523c5",
   "metadata": {},
   "source": [
    "#### We can see how the log transformations created a more normal distribution"
   ]
  },
  {
   "cell_type": "code",
   "execution_count": 1145,
   "id": "5711483b-015f-45e9-88fe-cd73403f2e27",
   "metadata": {},
   "outputs": [
    {
     "data": {
      "text/plain": [
       "<AxesSubplot: xlabel='TotalIncome', ylabel='LoanAmount'>"
      ]
     },
     "execution_count": 1145,
     "metadata": {},
     "output_type": "execute_result"
    },
    {
     "data": {
      "image/png": "[encoded data removed]",
      "text/plain": [
       "<Figure size 640x480 with 1 Axes>"
      ]
     },
     "metadata": {},
     "output_type": "display_data"
    }
   ],
   "source": [
    "# Plot a scatter plot of the log transformed columns to see their relationship to\n",
    "# one another.\n",
    "sns.scatterplot(x=df_num_log['TotalIncome'], y=df_num_log['LoanAmount'], hue=df['Loan_Status'])"
   ]
  },
  {
   "cell_type": "markdown",
   "id": "9bbfca31-04af-484a-b5ad-f0abe3963c4b",
   "metadata": {},
   "source": [
    "#### We can see that there is a linear relationship between Loan Amount and Total Income"
   ]
  },
  {
   "cell_type": "code",
   "execution_count": 1146,
   "id": "5b9d9102-d248-4f6c-ba37-4f890c764457",
   "metadata": {},
   "outputs": [
    {
     "name": "stdout",
     "output_type": "stream",
     "text": [
      "(614, 4)\n",
      "(614, 8)\n"
     ]
    }
   ],
   "source": [
    "print(df_num.shape)\n",
    "print(df_cat.shape)"
   ]
  },
  {
   "cell_type": "code",
   "execution_count": 1147,
   "id": "d63ce6bb-719d-46b1-978b-e2af65129997",
   "metadata": {},
   "outputs": [
    {
     "data": {
      "text/plain": [
       "(614, 13)"
      ]
     },
     "execution_count": 1147,
     "metadata": {},
     "output_type": "execute_result"
    }
   ],
   "source": [
    "cleaned_df = pd.concat([df_num, df_cat], axis=1)\n",
    "cleaned_df['Loan_Status'] = df['Loan_Status']\n",
    "cleaned_df.shape"
   ]
  },
  {
   "cell_type": "code",
   "execution_count": 1148,
   "id": "b7aba3fc-cd5d-45e1-81ce-3f4e02522258",
   "metadata": {},
   "outputs": [
    {
     "data": {
      "text/plain": [
       "ApplicantIncome      0\n",
       "CoapplicantIncome    0\n",
       "LoanAmount           0\n",
       "TotalIncome          0\n",
       "Gender               0\n",
       "Married              0\n",
       "Dependents           0\n",
       "Education            0\n",
       "Self_Employed        0\n",
       "Loan_Amount_Term     0\n",
       "Credit_History       0\n",
       "Property_Area        0\n",
       "Loan_Status          0\n",
       "dtype: int64"
      ]
     },
     "execution_count": 1148,
     "metadata": {},
     "output_type": "execute_result"
    }
   ],
   "source": [
    "cleaned_df = cleaned_df.dropna()\n",
    "cleaned_df.isnull().sum()"
   ]
  },
  {
   "cell_type": "code",
   "execution_count": 1149,
   "id": "10f0f7d0-2ea1-4faa-bf8b-38c89eed7127",
   "metadata": {},
   "outputs": [
    {
     "name": "stdout",
     "output_type": "stream",
     "text": [
      "Stored 'cleaned_df' (DataFrame)\n"
     ]
    }
   ],
   "source": [
    "%store cleaned_df"
   ]
  }
 ],
 "metadata": {
  "kernelspec": {
   "display_name": "Python 3 (ipykernel)",
   "language": "python",
   "name": "python3"
  },
  "language_info": {
   "codemirror_mode": {
    "name": "ipython",
    "version": 3
   },
   "file_extension": ".py",
   "mimetype": "text/x-python",
   "name": "python",
   "nbconvert_exporter": "python",
   "pygments_lexer": "ipython3",
   "version": "3.9.12"
  }
 },
 "nbformat": 4,
 "nbformat_minor": 5
}
